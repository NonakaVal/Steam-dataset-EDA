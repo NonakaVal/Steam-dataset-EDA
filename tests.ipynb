{
 "cells": [
  {
   "cell_type": "code",
   "execution_count": 1,
   "id": "6929f73d-0a18-4242-93f1-13d4c15910c3",
   "metadata": {},
   "outputs": [
    {
     "data": {
      "text/html": [
       "\n",
       "        <iframe\n",
       "            width=\"100%\"\n",
       "            height=\"650\"\n",
       "            src=\"http://127.0.0.1:8050/\"\n",
       "            frameborder=\"0\"\n",
       "            allowfullscreen\n",
       "            \n",
       "        ></iframe>\n",
       "        "
      ],
      "text/plain": [
       "<IPython.lib.display.IFrame at 0x1e438d767d0>"
      ]
     },
     "metadata": {},
     "output_type": "display_data"
    },
    {
     "name": "stderr",
     "output_type": "stream",
     "text": [
      "UsageError: Line magic function `%%hide` not found.\n"
     ]
    }
   ],
   "source": [
    "import dash\n",
    "from dash import dcc, html\n",
    "from dash.dependencies import Input, Output\n",
    "import plotly.express as px\n",
    "import pandas as pd\n",
    "import webbrowser\n",
    "from threading import Timer\n",
    "\n",
    "# Cria alguns dados de exemplo\n",
    "df = pd.DataFrame({\n",
    "    \"Fruit\": [\"Apples\", \"Oranges\", \"Bananas\", \"Berries\"],\n",
    "    \"Amount\": [4, 1, 2, 2],\n",
    "    \"City\": [\"SF\", \"SF\", \"SF\", \"SF\"]\n",
    "})\n",
    "\n",
    "# Inicializa o aplicativo Dash\n",
    "app = dash.Dash(__name__)\n",
    "\n",
    "# Define o layout do aplicativo\n",
    "app.layout = html.Div(children=[\n",
    "    html.H1(children='Dashboard de Exemplo'),\n",
    "\n",
    "    html.Div(children='''\n",
    "        Um exemplo simples de dashboard com Dash e Plotly.\n",
    "    '''),\n",
    "\n",
    "    dcc.Graph(\n",
    "        id='example-graph',\n",
    "        figure=px.bar(df, x=\"Fruit\", y=\"Amount\", color=\"City\", barmode=\"group\")\n",
    "    ),\n",
    "\n",
    "    dcc.Graph(\n",
    "        id='example-pie-chart',\n",
    "        figure=px.pie(df, names='Fruit', values='Amount')\n",
    "    ),\n",
    "\n",
    "    html.Label('Selecione uma fruta:'),\n",
    "    dcc.Dropdown(\n",
    "        id='fruit-dropdown',\n",
    "        options=[\n",
    "            {'label': 'Maçãs', 'value': 'Apples'},\n",
    "            {'label': 'Laranjas', 'value': 'Oranges'},\n",
    "            {'label': 'Bananas', 'value': 'Bananas'},\n",
    "            {'label': 'Frutas vermelhas', 'value': 'Berries'}\n",
    "        ],\n",
    "        value='Apples'\n",
    "    ),\n",
    "\n",
    "    html.Div(id='output-container')\n",
    "])\n",
    "\n",
    "# Define o callback para interatividade\n",
    "@app.callback(\n",
    "    Output('output-container', 'children'),\n",
    "    Input('fruit-dropdown', 'value')\n",
    ")\n",
    "def update_output(value):\n",
    "    return f'Você selecionou: {value}'\n",
    "\n",
    "# Função para abrir o navegador\n",
    "def open_browser():\n",
    "    webbrowser.open_new('http://127.0.0.1:8050/')\n",
    "\n",
    "# Roda o aplicativo\n",
    "if __name__ == '__main__':\n",
    "    Timer(1, open_browser).start()  # Abre o navegador após 1 segundo\n",
    "    app.run_server(debug=True)\n",
    "%%hide output"
   ]
  },
  {
   "cell_type": "code",
   "execution_count": null,
   "id": "b27d6fb5-8d2d-4cf3-8888-6e853838d196",
   "metadata": {},
   "outputs": [],
   "source": []
  }
 ],
 "metadata": {
  "kernelspec": {
   "display_name": "Python 3 (ipykernel)",
   "language": "python",
   "name": "python3"
  },
  "language_info": {
   "codemirror_mode": {
    "name": "ipython",
    "version": 3
   },
   "file_extension": ".py",
   "mimetype": "text/x-python",
   "name": "python",
   "nbconvert_exporter": "python",
   "pygments_lexer": "ipython3",
   "version": "3.11.7"
  }
 },
 "nbformat": 4,
 "nbformat_minor": 5
}
