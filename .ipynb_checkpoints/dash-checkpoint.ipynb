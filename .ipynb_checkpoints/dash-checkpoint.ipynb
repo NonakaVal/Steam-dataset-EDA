{
 "cells": [
  {
   "cell_type": "code",
   "execution_count": 1,
   "id": "6a942988-9a66-44f2-a5eb-0016f3cbc65b",
   "metadata": {},
   "outputs": [],
   "source": [
    "import pandas as pd\n",
    "import numpy as np\n",
    "from datetime import datetime\n",
    "import seaborn as sns\n",
    "import matplotlib.pyplot as plt\n",
    "import matplotlib.dates as mdates\n",
    "%matplotlib inline\n",
    "import os\n",
    "from langchain.agents.agent_types import AgentType\n",
    "from langchain_experimental.agents.agent_toolkits import create_pandas_dataframe_agent\n",
    "from langchain_openai import ChatOpenAI\n",
    "from dateutil import parser\n",
    "from collections import defaultdict\n",
    "OPENAI_API_KEY = os.getenv(key='OPENAI_API_KEY')"
   ]
  },
  {
   "cell_type": "code",
   "execution_count": 3,
   "id": "755cbab2-2c9e-4e2a-bbf8-e84c693ff380",
   "metadata": {},
   "outputs": [],
   "source": [
    "df = pd.read_csv('archive/new-steam-games.csv')"
   ]
  },
  {
   "cell_type": "code",
   "execution_count": null,
   "id": "11104dc0-c446-4ab9-b270-ccf464ff1a61",
   "metadata": {},
   "outputs": [],
   "source": []
  },
  {
   "cell_type": "code",
   "execution_count": null,
   "id": "871a6879-4213-47a6-ba7e-290f6d3ae96c",
   "metadata": {},
   "outputs": [],
   "source": []
  }
 ],
 "metadata": {
  "kernelspec": {
   "display_name": "Python 3 (ipykernel)",
   "language": "python",
   "name": "python3"
  },
  "language_info": {
   "codemirror_mode": {
    "name": "ipython",
    "version": 3
   },
   "file_extension": ".py",
   "mimetype": "text/x-python",
   "name": "python",
   "nbconvert_exporter": "python",
   "pygments_lexer": "ipython3",
   "version": "3.11.7"
  }
 },
 "nbformat": 4,
 "nbformat_minor": 5
}
