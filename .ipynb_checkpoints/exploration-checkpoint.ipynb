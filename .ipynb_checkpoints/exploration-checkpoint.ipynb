{
 "cells": [
  {
   "cell_type": "code",
   "execution_count": 1,
   "id": "fcb41d87-6123-4fb3-83a4-fe8ccf0a6076",
   "metadata": {},
   "outputs": [],
   "source": [
    "import pandas as pd\n",
    "import os\n",
    "from dotenv import load_dotenv\n",
    "from langchain.agents.agent_types import AgentType\n",
    "from langchain_experimental.agents.agent_toolkits import create_pandas_dataframe_agent\n",
    "from langchain_openai import ChatOpenAI"
   ]
  },
  {
   "cell_type": "code",
   "execution_count": 3,
   "id": "0447e75c-6f93-4fd4-8b7f-c5864436c728",
   "metadata": {},
   "outputs": [],
   "source": [
    "API_KEY = os.getenv(key='API_KEY')"
   ]
  },
  {
   "cell_type": "code",
   "execution_count": null,
   "id": "33475f87-2cef-4975-b6ae-10a6149c050c",
   "metadata": {},
   "outputs": [],
   "source": []
  },
  {
   "cell_type": "code",
   "execution_count": null,
   "id": "61e89edf-b3bd-4ca8-bc35-01097c1d31d7",
   "metadata": {},
   "outputs": [],
   "source": []
  },
  {
   "cell_type": "code",
   "execution_count": 4,
   "id": "d63477ee-2503-4807-a27b-3a2fc76f584b",
   "metadata": {},
   "outputs": [
    {
     "data": {
      "text/html": [
       "<div>\n",
       "<style scoped>\n",
       "    .dataframe tbody tr th:only-of-type {\n",
       "        vertical-align: middle;\n",
       "    }\n",
       "\n",
       "    .dataframe tbody tr th {\n",
       "        vertical-align: top;\n",
       "    }\n",
       "\n",
       "    .dataframe thead th {\n",
       "        text-align: right;\n",
       "    }\n",
       "</style>\n",
       "<table border=\"1\" class=\"dataframe\">\n",
       "  <thead>\n",
       "    <tr style=\"text-align: right;\">\n",
       "      <th></th>\n",
       "      <th>app_id</th>\n",
       "      <th>title</th>\n",
       "      <th>release_date</th>\n",
       "      <th>genres</th>\n",
       "      <th>categories</th>\n",
       "      <th>developer</th>\n",
       "      <th>publisher</th>\n",
       "      <th>original_price</th>\n",
       "      <th>discount_percentage</th>\n",
       "      <th>discounted_price</th>\n",
       "      <th>...</th>\n",
       "      <th>win_support</th>\n",
       "      <th>mac_support</th>\n",
       "      <th>linux_support</th>\n",
       "      <th>awards</th>\n",
       "      <th>overall_review</th>\n",
       "      <th>overall_review_%</th>\n",
       "      <th>overall_review_count</th>\n",
       "      <th>recent_review</th>\n",
       "      <th>recent_review_%</th>\n",
       "      <th>recent_review_count</th>\n",
       "    </tr>\n",
       "  </thead>\n",
       "  <tbody>\n",
       "    <tr>\n",
       "      <th>0</th>\n",
       "      <td>730</td>\n",
       "      <td>Counter-Strike 2</td>\n",
       "      <td>21 Aug, 2012</td>\n",
       "      <td>Action, Free to Play</td>\n",
       "      <td>Cross-Platform Multiplayer, Steam Trading Card...</td>\n",
       "      <td>Valve</td>\n",
       "      <td>Valve</td>\n",
       "      <td>NaN</td>\n",
       "      <td>NaN</td>\n",
       "      <td>Free</td>\n",
       "      <td>...</td>\n",
       "      <td>True</td>\n",
       "      <td>False</td>\n",
       "      <td>True</td>\n",
       "      <td>1</td>\n",
       "      <td>Very Positive</td>\n",
       "      <td>87.0</td>\n",
       "      <td>8062218.0</td>\n",
       "      <td>Mostly Positive</td>\n",
       "      <td>79.0</td>\n",
       "      <td>57466.0</td>\n",
       "    </tr>\n",
       "    <tr>\n",
       "      <th>1</th>\n",
       "      <td>570</td>\n",
       "      <td>Dota 2</td>\n",
       "      <td>9 Jul, 2013</td>\n",
       "      <td>Action, Strategy, Free to Play</td>\n",
       "      <td>Steam Trading Cards, Steam Workshop, SteamVR C...</td>\n",
       "      <td>Valve</td>\n",
       "      <td>Valve</td>\n",
       "      <td>NaN</td>\n",
       "      <td>NaN</td>\n",
       "      <td>Free</td>\n",
       "      <td>...</td>\n",
       "      <td>True</td>\n",
       "      <td>True</td>\n",
       "      <td>True</td>\n",
       "      <td>0</td>\n",
       "      <td>Very Positive</td>\n",
       "      <td>81.0</td>\n",
       "      <td>2243112.0</td>\n",
       "      <td>Mostly Positive</td>\n",
       "      <td>72.0</td>\n",
       "      <td>23395.0</td>\n",
       "    </tr>\n",
       "  </tbody>\n",
       "</table>\n",
       "<p>2 rows × 24 columns</p>\n",
       "</div>"
      ],
      "text/plain": [
       "   app_id             title  release_date                          genres  \\\n",
       "0     730  Counter-Strike 2  21 Aug, 2012            Action, Free to Play   \n",
       "1     570            Dota 2   9 Jul, 2013  Action, Strategy, Free to Play   \n",
       "\n",
       "                                          categories developer publisher  \\\n",
       "0  Cross-Platform Multiplayer, Steam Trading Card...     Valve     Valve   \n",
       "1  Steam Trading Cards, Steam Workshop, SteamVR C...     Valve     Valve   \n",
       "\n",
       "  original_price discount_percentage discounted_price  ...  win_support  \\\n",
       "0            NaN                 NaN             Free  ...         True   \n",
       "1            NaN                 NaN             Free  ...         True   \n",
       "\n",
       "   mac_support linux_support awards  overall_review  overall_review_%  \\\n",
       "0        False          True      1   Very Positive              87.0   \n",
       "1         True          True      0   Very Positive              81.0   \n",
       "\n",
       "   overall_review_count    recent_review recent_review_%  recent_review_count  \n",
       "0             8062218.0  Mostly Positive            79.0              57466.0  \n",
       "1             2243112.0  Mostly Positive            72.0              23395.0  \n",
       "\n",
       "[2 rows x 24 columns]"
      ]
     },
     "execution_count": 4,
     "metadata": {},
     "output_type": "execute_result"
    }
   ],
   "source": [
    "df = pd.read_csv('archive/steam-games.csv')\n",
    "df.head(2)"
   ]
  },
  {
   "cell_type": "code",
   "execution_count": 8,
   "id": "094d7525-752c-4f4b-9799-6dd8b4a93ab1",
   "metadata": {},
   "outputs": [
    {
     "name": "stdout",
     "output_type": "stream",
     "text": [
      "<class 'pandas.core.frame.DataFrame'>\n",
      "RangeIndex: 42497 entries, 0 to 42496\n",
      "Data columns (total 24 columns):\n",
      " #   Column                Non-Null Count  Dtype  \n",
      "---  ------                --------------  -----  \n",
      " 0   app_id                42497 non-null  int64  \n",
      " 1   title                 42497 non-null  object \n",
      " 2   release_date          42440 non-null  object \n",
      " 3   genres                42410 non-null  object \n",
      " 4   categories            42452 non-null  object \n",
      " 5   developer             42307 non-null  object \n",
      " 6   publisher             42286 non-null  object \n",
      " 7   original_price        4859 non-null   object \n",
      " 8   discount_percentage   4859 non-null   object \n",
      " 9   discounted_price      42257 non-null  object \n",
      " 10  dlc_available         42497 non-null  int64  \n",
      " 11  age_rating            42497 non-null  int64  \n",
      " 12  content_descriptor    2375 non-null   object \n",
      " 13  about_description     42359 non-null  object \n",
      " 14  win_support           42497 non-null  bool   \n",
      " 15  mac_support           42497 non-null  bool   \n",
      " 16  linux_support         42497 non-null  bool   \n",
      " 17  awards                42497 non-null  int64  \n",
      " 18  overall_review        40020 non-null  object \n",
      " 19  overall_review_%      40020 non-null  float64\n",
      " 20  overall_review_count  40020 non-null  float64\n",
      " 21  recent_review         5503 non-null   object \n",
      " 22  recent_review_%       5503 non-null   float64\n",
      " 23  recent_review_count   5503 non-null   float64\n",
      "dtypes: bool(3), float64(4), int64(4), object(13)\n",
      "memory usage: 6.9+ MB\n"
     ]
    }
   ],
   "source": [
    "df.info()"
   ]
  },
  {
   "cell_type": "markdown",
   "id": "0c626bbd-76fc-4e73-8e7d-0ed5282d7c1d",
   "metadata": {},
   "source": [
    "- **Análise de Mercado e Tendências**\n",
    "\t-  *Quais são os gêneros de jogos mais populares na plataforma?*\n",
    "\t\t- identificar quais gêneros têm o maior número de jogos, maior número de vendas e melhores avaliações para orientar desenvolvedores sobre tendências de mercado.\n",
    "\t-  *Existe uma correlação entre a data de lançamento de um jogo e suas avaliações/reviews?*\n",
    "\t\t- Verificar se jogos lançados recentemente tendem a ter avaliações melhores ou piores que jogos mais antigos, potencialmente devido a melhorias na tecnologia ou expectativas dos jogadores.\n",
    "\t-  *Quais desenvolvedores e publicadores têm os jogos com melhores avaliações?*\n",
    "\t\t-  Identificar quais empresas estão produzindo jogos de alta qualidade, o que pode ser útil para parcerias, investimentos e colaboração."
   ]
  },
  {
   "cell_type": "code",
   "execution_count": 9,
   "id": "5dcfdff1-0c6b-4e81-aad2-a095f8e4f411",
   "metadata": {
    "scrolled": true
   },
   "outputs": [
    {
     "data": {
      "text/plain": [
       "app_id                      0\n",
       "title                       0\n",
       "release_date               57\n",
       "genres                     87\n",
       "categories                 45\n",
       "developer                 190\n",
       "publisher                 211\n",
       "original_price          37638\n",
       "discount_percentage     37638\n",
       "discounted_price          240\n",
       "dlc_available               0\n",
       "age_rating                  0\n",
       "content_descriptor      40122\n",
       "about_description         138\n",
       "win_support                 0\n",
       "mac_support                 0\n",
       "linux_support               0\n",
       "awards                      0\n",
       "overall_review           2477\n",
       "overall_review_%         2477\n",
       "overall_review_count     2477\n",
       "recent_review           36994\n",
       "recent_review_%         36994\n",
       "recent_review_count     36994\n",
       "dtype: int64"
      ]
     },
     "execution_count": 9,
     "metadata": {},
     "output_type": "execute_result"
    }
   ],
   "source": [
    "df.isnull().sum()"
   ]
  },
  {
   "cell_type": "code",
   "execution_count": 10,
   "id": "24217d3b-73e2-4ea2-a9fb-de4bf60636b1",
   "metadata": {},
   "outputs": [
    {
     "data": {
      "text/plain": [
       "Index(['app_id', 'title', 'release_date', 'genres', 'categories', 'developer',\n",
       "       'publisher', 'original_price', 'discount_percentage',\n",
       "       'discounted_price', 'dlc_available', 'age_rating', 'content_descriptor',\n",
       "       'about_description', 'win_support', 'mac_support', 'linux_support',\n",
       "       'awards', 'overall_review', 'overall_review_%', 'overall_review_count',\n",
       "       'recent_review', 'recent_review_%', 'recent_review_count'],\n",
       "      dtype='object')"
      ]
     },
     "execution_count": 10,
     "metadata": {},
     "output_type": "execute_result"
    }
   ],
   "source": [
    "df.columns"
   ]
  },
  {
   "cell_type": "code",
   "execution_count": 11,
   "id": "1a206098-06f2-4eeb-9a3c-89e57b74e1e8",
   "metadata": {},
   "outputs": [
    {
     "data": {
      "text/html": [
       "<div>\n",
       "<style scoped>\n",
       "    .dataframe tbody tr th:only-of-type {\n",
       "        vertical-align: middle;\n",
       "    }\n",
       "\n",
       "    .dataframe tbody tr th {\n",
       "        vertical-align: top;\n",
       "    }\n",
       "\n",
       "    .dataframe thead th {\n",
       "        text-align: right;\n",
       "    }\n",
       "</style>\n",
       "<table border=\"1\" class=\"dataframe\">\n",
       "  <thead>\n",
       "    <tr style=\"text-align: right;\">\n",
       "      <th></th>\n",
       "      <th>app_id</th>\n",
       "      <th>title</th>\n",
       "      <th>release_date</th>\n",
       "      <th>genres</th>\n",
       "      <th>categories</th>\n",
       "      <th>developer</th>\n",
       "      <th>publisher</th>\n",
       "      <th>awards</th>\n",
       "      <th>overall_review</th>\n",
       "      <th>overall_review_%</th>\n",
       "      <th>overall_review_count</th>\n",
       "    </tr>\n",
       "  </thead>\n",
       "  <tbody>\n",
       "    <tr>\n",
       "      <th>0</th>\n",
       "      <td>730</td>\n",
       "      <td>Counter-Strike 2</td>\n",
       "      <td>21 Aug, 2012</td>\n",
       "      <td>Action, Free to Play</td>\n",
       "      <td>Cross-Platform Multiplayer, Steam Trading Card...</td>\n",
       "      <td>Valve</td>\n",
       "      <td>Valve</td>\n",
       "      <td>1</td>\n",
       "      <td>Very Positive</td>\n",
       "      <td>87.0</td>\n",
       "      <td>8062218.0</td>\n",
       "    </tr>\n",
       "    <tr>\n",
       "      <th>1</th>\n",
       "      <td>570</td>\n",
       "      <td>Dota 2</td>\n",
       "      <td>9 Jul, 2013</td>\n",
       "      <td>Action, Strategy, Free to Play</td>\n",
       "      <td>Steam Trading Cards, Steam Workshop, SteamVR C...</td>\n",
       "      <td>Valve</td>\n",
       "      <td>Valve</td>\n",
       "      <td>0</td>\n",
       "      <td>Very Positive</td>\n",
       "      <td>81.0</td>\n",
       "      <td>2243112.0</td>\n",
       "    </tr>\n",
       "    <tr>\n",
       "      <th>2</th>\n",
       "      <td>2215430</td>\n",
       "      <td>Ghost of Tsushima DIRECTOR'S CUT</td>\n",
       "      <td>16 May, 2024</td>\n",
       "      <td>Action, Adventure</td>\n",
       "      <td>Single-player, Online Co-op, Steam Achievement...</td>\n",
       "      <td>Sucker Punch Productions</td>\n",
       "      <td>PlayStation PC LLC</td>\n",
       "      <td>0</td>\n",
       "      <td>Very Positive</td>\n",
       "      <td>89.0</td>\n",
       "      <td>12294.0</td>\n",
       "    </tr>\n",
       "  </tbody>\n",
       "</table>\n",
       "</div>"
      ],
      "text/plain": [
       "    app_id                             title  release_date  \\\n",
       "0      730                  Counter-Strike 2  21 Aug, 2012   \n",
       "1      570                            Dota 2   9 Jul, 2013   \n",
       "2  2215430  Ghost of Tsushima DIRECTOR'S CUT  16 May, 2024   \n",
       "\n",
       "                           genres  \\\n",
       "0            Action, Free to Play   \n",
       "1  Action, Strategy, Free to Play   \n",
       "2               Action, Adventure   \n",
       "\n",
       "                                          categories  \\\n",
       "0  Cross-Platform Multiplayer, Steam Trading Card...   \n",
       "1  Steam Trading Cards, Steam Workshop, SteamVR C...   \n",
       "2  Single-player, Online Co-op, Steam Achievement...   \n",
       "\n",
       "                  developer           publisher  awards overall_review  \\\n",
       "0                     Valve               Valve       1  Very Positive   \n",
       "1                     Valve               Valve       0  Very Positive   \n",
       "2  Sucker Punch Productions  PlayStation PC LLC       0  Very Positive   \n",
       "\n",
       "   overall_review_%  overall_review_count  \n",
       "0              87.0             8062218.0  \n",
       "1              81.0             2243112.0  \n",
       "2              89.0               12294.0  "
      ]
     },
     "execution_count": 11,
     "metadata": {},
     "output_type": "execute_result"
    }
   ],
   "source": [
    "df_1 = df[['app_id', 'title', 'release_date', 'genres', 'categories', 'developer',\n",
    "       'publisher', 'awards', 'overall_review', 'overall_review_%', \n",
    "        'overall_review_count']]\n",
    "df_1.head(3)"
   ]
  },
  {
   "cell_type": "code",
   "execution_count": 8,
   "id": "08c2b914-e42c-405a-9904-7968c36e8e38",
   "metadata": {},
   "outputs": [
    {
     "name": "stdout",
     "output_type": "stream",
     "text": [
      "<class 'pandas.core.frame.DataFrame'>\n",
      "RangeIndex: 42497 entries, 0 to 42496\n",
      "Data columns (total 11 columns):\n",
      " #   Column                Non-Null Count  Dtype  \n",
      "---  ------                --------------  -----  \n",
      " 0   app_id                42497 non-null  int64  \n",
      " 1   title                 42497 non-null  object \n",
      " 2   release_date          42440 non-null  object \n",
      " 3   genres                42410 non-null  object \n",
      " 4   categories            42452 non-null  object \n",
      " 5   developer             42307 non-null  object \n",
      " 6   publisher             42286 non-null  object \n",
      " 7   awards                42497 non-null  int64  \n",
      " 8   overall_review        40020 non-null  object \n",
      " 9   overall_review_%      40020 non-null  float64\n",
      " 10  overall_review_count  40020 non-null  float64\n",
      "dtypes: float64(2), int64(2), object(7)\n",
      "memory usage: 3.6+ MB\n"
     ]
    }
   ],
   "source": [
    "df_1.info()"
   ]
  },
  {
   "cell_type": "code",
   "execution_count": 14,
   "id": "6a4a96f1-9beb-4f09-b6b4-c6a2633b70ce",
   "metadata": {},
   "outputs": [
    {
     "data": {
      "text/plain": [
       "app_id                     0\n",
       "title                      0\n",
       "release_date              57\n",
       "genres                    87\n",
       "categories                45\n",
       "developer                190\n",
       "publisher                211\n",
       "awards                     0\n",
       "overall_review          2477\n",
       "overall_review_%        2477\n",
       "overall_review_count    2477\n",
       "dtype: int64"
      ]
     },
     "execution_count": 14,
     "metadata": {},
     "output_type": "execute_result"
    }
   ],
   "source": [
    "df_1.isnull().sum()"
   ]
  },
  {
   "cell_type": "code",
   "execution_count": 16,
   "id": "43990c99-cab2-45e9-93e7-fcd354a9cee1",
   "metadata": {},
   "outputs": [],
   "source": [
    "df_1 = df_1.dropna()"
   ]
  },
  {
   "cell_type": "code",
   "execution_count": 17,
   "id": "25b43b75-7ff6-4640-af19-10298ba483bb",
   "metadata": {},
   "outputs": [
    {
     "name": "stdout",
     "output_type": "stream",
     "text": [
      "<class 'pandas.core.frame.DataFrame'>\n",
      "Int64Index: 39853 entries, 0 to 42248\n",
      "Data columns (total 11 columns):\n",
      " #   Column                Non-Null Count  Dtype  \n",
      "---  ------                --------------  -----  \n",
      " 0   app_id                39853 non-null  int64  \n",
      " 1   title                 39853 non-null  object \n",
      " 2   release_date          39853 non-null  object \n",
      " 3   genres                39853 non-null  object \n",
      " 4   categories            39853 non-null  object \n",
      " 5   developer             39853 non-null  object \n",
      " 6   publisher             39853 non-null  object \n",
      " 7   awards                39853 non-null  int64  \n",
      " 8   overall_review        39853 non-null  object \n",
      " 9   overall_review_%      39853 non-null  float64\n",
      " 10  overall_review_count  39853 non-null  float64\n",
      "dtypes: float64(2), int64(2), object(7)\n",
      "memory usage: 3.6+ MB\n"
     ]
    }
   ],
   "source": [
    "df_1.info()"
   ]
  },
  {
   "cell_type": "code",
   "execution_count": 18,
   "id": "7b4905a4-d869-4cfb-902f-9858ed0e9830",
   "metadata": {},
   "outputs": [
    {
     "data": {
      "text/html": [
       "<div>\n",
       "<style scoped>\n",
       "    .dataframe tbody tr th:only-of-type {\n",
       "        vertical-align: middle;\n",
       "    }\n",
       "\n",
       "    .dataframe tbody tr th {\n",
       "        vertical-align: top;\n",
       "    }\n",
       "\n",
       "    .dataframe thead th {\n",
       "        text-align: right;\n",
       "    }\n",
       "</style>\n",
       "<table border=\"1\" class=\"dataframe\">\n",
       "  <thead>\n",
       "    <tr style=\"text-align: right;\">\n",
       "      <th></th>\n",
       "      <th>overall_review</th>\n",
       "      <th>overall_review_%</th>\n",
       "      <th>overall_review_count</th>\n",
       "    </tr>\n",
       "  </thead>\n",
       "  <tbody>\n",
       "    <tr>\n",
       "      <th>0</th>\n",
       "      <td>Very Positive</td>\n",
       "      <td>87.0</td>\n",
       "      <td>8062218.0</td>\n",
       "    </tr>\n",
       "    <tr>\n",
       "      <th>1</th>\n",
       "      <td>Very Positive</td>\n",
       "      <td>81.0</td>\n",
       "      <td>2243112.0</td>\n",
       "    </tr>\n",
       "    <tr>\n",
       "      <th>2</th>\n",
       "      <td>Very Positive</td>\n",
       "      <td>89.0</td>\n",
       "      <td>12294.0</td>\n",
       "    </tr>\n",
       "    <tr>\n",
       "      <th>3</th>\n",
       "      <td>Very Positive</td>\n",
       "      <td>93.0</td>\n",
       "      <td>605191.0</td>\n",
       "    </tr>\n",
       "    <tr>\n",
       "      <th>4</th>\n",
       "      <td>Very Positive</td>\n",
       "      <td>80.0</td>\n",
       "      <td>594713.0</td>\n",
       "    </tr>\n",
       "    <tr>\n",
       "      <th>...</th>\n",
       "      <td>...</td>\n",
       "      <td>...</td>\n",
       "      <td>...</td>\n",
       "    </tr>\n",
       "    <tr>\n",
       "      <th>40950</th>\n",
       "      <td>Very Negative</td>\n",
       "      <td>14.0</td>\n",
       "      <td>57.0</td>\n",
       "    </tr>\n",
       "    <tr>\n",
       "      <th>40968</th>\n",
       "      <td>Very Negative</td>\n",
       "      <td>14.0</td>\n",
       "      <td>54.0</td>\n",
       "    </tr>\n",
       "    <tr>\n",
       "      <th>41427</th>\n",
       "      <td>Overwhelmingly Negative</td>\n",
       "      <td>17.0</td>\n",
       "      <td>3299.0</td>\n",
       "    </tr>\n",
       "    <tr>\n",
       "      <th>42247</th>\n",
       "      <td>Very Negative</td>\n",
       "      <td>18.0</td>\n",
       "      <td>127.0</td>\n",
       "    </tr>\n",
       "    <tr>\n",
       "      <th>42248</th>\n",
       "      <td>Very Negative</td>\n",
       "      <td>15.0</td>\n",
       "      <td>51.0</td>\n",
       "    </tr>\n",
       "  </tbody>\n",
       "</table>\n",
       "<p>39853 rows × 3 columns</p>\n",
       "</div>"
      ],
      "text/plain": [
       "                overall_review  overall_review_%  overall_review_count\n",
       "0                Very Positive              87.0             8062218.0\n",
       "1                Very Positive              81.0             2243112.0\n",
       "2                Very Positive              89.0               12294.0\n",
       "3                Very Positive              93.0              605191.0\n",
       "4                Very Positive              80.0              594713.0\n",
       "...                        ...               ...                   ...\n",
       "40950            Very Negative              14.0                  57.0\n",
       "40968            Very Negative              14.0                  54.0\n",
       "41427  Overwhelmingly Negative              17.0                3299.0\n",
       "42247            Very Negative              18.0                 127.0\n",
       "42248            Very Negative              15.0                  51.0\n",
       "\n",
       "[39853 rows x 3 columns]"
      ]
     },
     "execution_count": 18,
     "metadata": {},
     "output_type": "execute_result"
    }
   ],
   "source": [
    "df_1[['overall_review', 'overall_review_%', \n",
    "        'overall_review_count']]"
   ]
  },
  {
   "cell_type": "code",
   "execution_count": null,
   "id": "eedc3663-15e7-4039-90ca-149dc3d0e225",
   "metadata": {},
   "outputs": [],
   "source": []
  },
  {
   "cell_type": "code",
   "execution_count": null,
   "id": "bedd1057-b47c-4b4f-9fca-741925938948",
   "metadata": {},
   "outputs": [],
   "source": []
  },
  {
   "cell_type": "code",
   "execution_count": null,
   "id": "be6e70d1-2c6e-458f-98ad-19d05f973078",
   "metadata": {},
   "outputs": [],
   "source": []
  },
  {
   "cell_type": "code",
   "execution_count": null,
   "id": "9b14eb4b-9f3b-483d-a2e8-6a9259c2ed85",
   "metadata": {},
   "outputs": [],
   "source": []
  },
  {
   "cell_type": "code",
   "execution_count": 5,
   "id": "d33aa935-75e5-46ae-99e2-9bdb90cd23dd",
   "metadata": {},
   "outputs": [],
   "source": [
    "def _chat(df_path):\n",
    "    openai_api_key = API_KEY\n",
    "    df = df_path\n",
    "    llm = ChatOpenAI(model = \"gpt-3.5-turbo\", openai_api_key=openai_api_key)\n",
    "    agent_prefix = \"O df importado é\\n\"\n",
    "\n",
    "    agent = create_pandas_dataframe_agent(\n",
    "        llm,\n",
    "        df,\n",
    "        prefix=agent_prefix,\n",
    "        verbose  = True,\n",
    "        agent_type = AgentType.OPENAI_FUNCTIONS,\n",
    "    )\n",
    "\n",
    "    while True:\n",
    "        prompt = input(\"Digite o prompt ou 'sair\\n'\")\n",
    "        if prompt.lower() == 'sair':\n",
    "            print(\"finalizando...\")\n",
    "            break\n",
    "        response = agent.invoke(prompt)"
   ]
  },
  {
   "cell_type": "code",
   "execution_count": null,
   "id": "fb2be2b7-8ff0-487c-86d4-5dd6f372f901",
   "metadata": {},
   "outputs": [],
   "source": []
  },
  {
   "cell_type": "code",
   "execution_count": 7,
   "id": "9211a684-58a5-4945-a8db-a13a818d3968",
   "metadata": {},
   "outputs": [
    {
     "name": "stdin",
     "output_type": "stream",
     "text": [
      "Digite o prompt ou 'sair\n",
      "' DESCRIBE\n"
     ]
    },
    {
     "name": "stdout",
     "output_type": "stream",
     "text": [
      "\n",
      "\n",
      "\u001b[1m> Entering new AgentExecutor chain...\u001b[0m\n",
      "\u001b[32;1m\u001b[1;3m\n",
      "Invoking: `python_repl_ast` with `{'query': 'df.describe()'}`\n",
      "\n",
      "\n",
      "\u001b[0m\u001b[36;1m\u001b[1;3m             app_id  dlc_available    age_rating        awards  \\\n",
      "count  4.249700e+04   42497.000000  42497.000000  42497.000000   \n",
      "mean   1.245812e+06       0.722004      0.055886      0.309528   \n",
      "std    7.553906e+05       4.673810      0.229705      1.264100   \n",
      "min    1.000000e+01       0.000000      0.000000      0.000000   \n",
      "25%    5.892200e+05       0.000000      0.000000      0.000000   \n",
      "50%    1.144860e+06       0.000000      0.000000      0.000000   \n",
      "75%    1.822640e+06       0.000000      0.000000      0.000000   \n",
      "max    3.008050e+06     200.000000      1.000000     41.000000   \n",
      "\n",
      "       overall_review_%  overall_review_count  recent_review_%  \\\n",
      "count      40020.000000          4.002000e+04      5503.000000   \n",
      "mean          77.162569          2.500621e+03        82.303107   \n",
      "std           17.672036          4.887980e+04        15.110260   \n",
      "min            0.000000          1.000000e+01         6.000000   \n",
      "25%           68.000000          2.100000e+01        75.000000   \n",
      "50%           81.000000          5.900000e+01        86.000000   \n",
      "75%           91.000000          2.820000e+02        93.000000   \n",
      "max          100.000000          8.062218e+06       100.000000   \n",
      "\n",
      "       recent_review_count  \n",
      "count          5503.000000  \n",
      "mean            282.100491  \n",
      "std            4583.606042  \n",
      "min              10.000000  \n",
      "25%              16.000000  \n",
      "50%              34.000000  \n",
      "75%             102.000000  \n",
      "max          328633.000000  \u001b[0m\u001b[32;1m\u001b[1;3mAqui estão algumas estatísticas descritivas para algumas colunas do conjunto de dados:\n",
      "\n",
      "- Número de registros (count):\n",
      "    - app_id: 42497\n",
      "    - dlc_available: 42497\n",
      "    - age_rating: 42497\n",
      "    - awards: 42497\n",
      "    - overall_review_%: 40020\n",
      "    - overall_review_count: 40020\n",
      "    - recent_review_%: 5503\n",
      "    - recent_review_count: 5503\n",
      "\n",
      "- Médias:\n",
      "    - dlc_available: 0.722004\n",
      "    - age_rating: 0.055886\n",
      "    - awards: 0.309528\n",
      "    - overall_review_%: 77.162569\n",
      "    - overall_review_count: 2500.621\n",
      "    - recent_review_%: 82.303107\n",
      "    - recent_review_count: 282.100491\n",
      "\n",
      "- Desvios padrão:\n",
      "    - dlc_available: 4.673810\n",
      "    - age_rating: 0.229705\n",
      "    - awards: 1.264100\n",
      "    - overall_review_%: 17.672036\n",
      "    - overall_review_count: 48879.980\n",
      "    - recent_review_%: 15.110260\n",
      "    - recent_review_count: 4583.606042\n",
      "\n",
      "Essas são algumas das estatísticas descritivas disponíveis para o conjunto de dados.\u001b[0m\n",
      "\n",
      "\u001b[1m> Finished chain.\u001b[0m\n"
     ]
    },
    {
     "name": "stdin",
     "output_type": "stream",
     "text": [
      "Digite o prompt ou 'sair\n",
      "' sair\n"
     ]
    },
    {
     "name": "stdout",
     "output_type": "stream",
     "text": [
      "finalizando...\n"
     ]
    }
   ],
   "source": [
    "_chat(df)"
   ]
  },
  {
   "cell_type": "code",
   "execution_count": null,
   "id": "7fa1d437-4f87-457e-8fad-af0d0d52c3c3",
   "metadata": {},
   "outputs": [],
   "source": []
  }
 ],
 "metadata": {
  "kernelspec": {
   "display_name": "Python 3 (ipykernel)",
   "language": "python",
   "name": "python3"
  },
  "language_info": {
   "codemirror_mode": {
    "name": "ipython",
    "version": 3
   },
   "file_extension": ".py",
   "mimetype": "text/x-python",
   "name": "python",
   "nbconvert_exporter": "python",
   "pygments_lexer": "ipython3",
   "version": "3.11.7"
  }
 },
 "nbformat": 4,
 "nbformat_minor": 5
}
