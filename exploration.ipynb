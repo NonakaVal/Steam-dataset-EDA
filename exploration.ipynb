{
 "cells": [
  {
   "cell_type": "code",
   "execution_count": 235,
   "id": "fcb41d87-6123-4fb3-83a4-fe8ccf0a6076",
   "metadata": {},
   "outputs": [],
   "source": [
    "import pandas as pd\n",
    "import os\n",
    "from dotenv import load_dotenv\n",
    "from langchain.agents.agent_types import AgentType\n",
    "from langchain_experimental.agents.agent_toolkits import create_pandas_dataframe_agent\n",
    "from langchain_openai import ChatOpenAI\n",
    "from dateutil import parser\n",
    "from datetime import datetime\n",
    "import plotly.graph_objs as go\n",
    "from plotly.offline import iplot"
   ]
  },
  {
   "cell_type": "code",
   "execution_count": 193,
   "id": "d63477ee-2503-4807-a27b-3a2fc76f584b",
   "metadata": {},
   "outputs": [
    {
     "data": {
      "text/html": [
       "<div>\n",
       "<style scoped>\n",
       "    .dataframe tbody tr th:only-of-type {\n",
       "        vertical-align: middle;\n",
       "    }\n",
       "\n",
       "    .dataframe tbody tr th {\n",
       "        vertical-align: top;\n",
       "    }\n",
       "\n",
       "    .dataframe thead th {\n",
       "        text-align: right;\n",
       "    }\n",
       "</style>\n",
       "<table border=\"1\" class=\"dataframe\">\n",
       "  <thead>\n",
       "    <tr style=\"text-align: right;\">\n",
       "      <th></th>\n",
       "      <th>app_id</th>\n",
       "      <th>title</th>\n",
       "      <th>release_date</th>\n",
       "      <th>genres</th>\n",
       "      <th>categories</th>\n",
       "      <th>developer</th>\n",
       "      <th>publisher</th>\n",
       "      <th>original_price</th>\n",
       "      <th>discount_percentage</th>\n",
       "      <th>discounted_price</th>\n",
       "      <th>dlc_available</th>\n",
       "      <th>age_rating</th>\n",
       "      <th>content_descriptor</th>\n",
       "      <th>about_description</th>\n",
       "      <th>win_support</th>\n",
       "      <th>mac_support</th>\n",
       "      <th>linux_support</th>\n",
       "      <th>awards</th>\n",
       "      <th>overall_review</th>\n",
       "      <th>overall_review_%</th>\n",
       "      <th>overall_review_count</th>\n",
       "      <th>recent_review</th>\n",
       "      <th>recent_review_%</th>\n",
       "      <th>recent_review_count</th>\n",
       "    </tr>\n",
       "  </thead>\n",
       "  <tbody>\n",
       "    <tr>\n",
       "      <th>0</th>\n",
       "      <td>730</td>\n",
       "      <td>Counter-Strike 2</td>\n",
       "      <td>21 Aug, 2012</td>\n",
       "      <td>Action, Free to Play</td>\n",
       "      <td>Cross-Platform Multiplayer, Steam Trading Card...</td>\n",
       "      <td>Valve</td>\n",
       "      <td>Valve</td>\n",
       "      <td>NaN</td>\n",
       "      <td>NaN</td>\n",
       "      <td>Free</td>\n",
       "      <td>1</td>\n",
       "      <td>0</td>\n",
       "      <td>NaN</td>\n",
       "      <td>For over two decades, Counter-Strike has offer...</td>\n",
       "      <td>True</td>\n",
       "      <td>False</td>\n",
       "      <td>True</td>\n",
       "      <td>1</td>\n",
       "      <td>Very Positive</td>\n",
       "      <td>87.0</td>\n",
       "      <td>8062218.0</td>\n",
       "      <td>Mostly Positive</td>\n",
       "      <td>79.0</td>\n",
       "      <td>57466.0</td>\n",
       "    </tr>\n",
       "  </tbody>\n",
       "</table>\n",
       "</div>"
      ],
      "text/plain": [
       "   app_id             title  release_date                genres  \\\n",
       "0     730  Counter-Strike 2  21 Aug, 2012  Action, Free to Play   \n",
       "\n",
       "                                          categories developer publisher  \\\n",
       "0  Cross-Platform Multiplayer, Steam Trading Card...     Valve     Valve   \n",
       "\n",
       "  original_price discount_percentage discounted_price  dlc_available  \\\n",
       "0            NaN                 NaN             Free              1   \n",
       "\n",
       "   age_rating content_descriptor  \\\n",
       "0           0                NaN   \n",
       "\n",
       "                                   about_description  win_support  \\\n",
       "0  For over two decades, Counter-Strike has offer...         True   \n",
       "\n",
       "   mac_support  linux_support  awards overall_review  overall_review_%  \\\n",
       "0        False           True       1  Very Positive              87.0   \n",
       "\n",
       "   overall_review_count    recent_review  recent_review_%  recent_review_count  \n",
       "0             8062218.0  Mostly Positive             79.0              57466.0  "
      ]
     },
     "execution_count": 193,
     "metadata": {},
     "output_type": "execute_result"
    }
   ],
   "source": [
    "df = pd.read_csv('archive/steam-games.csv')\n",
    "df.head(1)"
   ]
  },
  {
   "cell_type": "code",
   "execution_count": 181,
   "id": "0447e75c-6f93-4fd4-8b7f-c5864436c728",
   "metadata": {},
   "outputs": [],
   "source": [
    "API_KEY = os.getenv(key='API_KEY')"
   ]
  },
  {
   "cell_type": "code",
   "execution_count": 192,
   "id": "d33aa935-75e5-46ae-99e2-9bdb90cd23dd",
   "metadata": {},
   "outputs": [],
   "source": [
    "def _chat(df_path):\n",
    "    openai_api_key = API_KEY\n",
    "    df = df_path\n",
    "    llm = ChatOpenAI(model = \"gpt-3.5-turbo\", openai_api_key=openai_api_key)\n",
    "    agent_prefix = \"O df importado é\\n\"\n",
    "\n",
    "    agent = create_pandas_dataframe_agent(\n",
    "        llm,\n",
    "        df,\n",
    "        prefix=agent_prefix,\n",
    "        verbose  = True,\n",
    "        agent_type = AgentType.OPENAI_FUNCTIONS,\n",
    "    )\n",
    "\n",
    "    while True:\n",
    "        prompt = input(\"Digite o prompt ou 'sair\\n'\")\n",
    "        if prompt.lower() == 'sair':\n",
    "            print(\"finalizando...\")\n",
    "            break\n",
    "        response = agent.invoke(prompt)"
   ]
  },
  {
   "cell_type": "code",
   "execution_count": 183,
   "id": "094d7525-752c-4f4b-9799-6dd8b4a93ab1",
   "metadata": {},
   "outputs": [
    {
     "name": "stdout",
     "output_type": "stream",
     "text": [
      "<class 'pandas.core.frame.DataFrame'>\n",
      "RangeIndex: 42497 entries, 0 to 42496\n",
      "Data columns (total 24 columns):\n",
      " #   Column                Non-Null Count  Dtype  \n",
      "---  ------                --------------  -----  \n",
      " 0   app_id                42497 non-null  int64  \n",
      " 1   title                 42497 non-null  object \n",
      " 2   release_date          42440 non-null  object \n",
      " 3   genres                42410 non-null  object \n",
      " 4   categories            42452 non-null  object \n",
      " 5   developer             42307 non-null  object \n",
      " 6   publisher             42286 non-null  object \n",
      " 7   original_price        4859 non-null   object \n",
      " 8   discount_percentage   4859 non-null   object \n",
      " 9   discounted_price      42257 non-null  object \n",
      " 10  dlc_available         42497 non-null  int64  \n",
      " 11  age_rating            42497 non-null  int64  \n",
      " 12  content_descriptor    2375 non-null   object \n",
      " 13  about_description     42359 non-null  object \n",
      " 14  win_support           42497 non-null  bool   \n",
      " 15  mac_support           42497 non-null  bool   \n",
      " 16  linux_support         42497 non-null  bool   \n",
      " 17  awards                42497 non-null  int64  \n",
      " 18  overall_review        40020 non-null  object \n",
      " 19  overall_review_%      40020 non-null  float64\n",
      " 20  overall_review_count  40020 non-null  float64\n",
      " 21  recent_review         5503 non-null   object \n",
      " 22  recent_review_%       5503 non-null   float64\n",
      " 23  recent_review_count   5503 non-null   float64\n",
      "dtypes: bool(3), float64(4), int64(4), object(13)\n",
      "memory usage: 6.9+ MB\n",
      "None\n"
     ]
    }
   ],
   "source": [
    "print(df.info())"
   ]
  },
  {
   "cell_type": "code",
   "execution_count": 184,
   "id": "2a8873b9-4da8-478b-bceb-cde3b47646b7",
   "metadata": {},
   "outputs": [
    {
     "data": {
      "text/html": [
       "<div>\n",
       "<style scoped>\n",
       "    .dataframe tbody tr th:only-of-type {\n",
       "        vertical-align: middle;\n",
       "    }\n",
       "\n",
       "    .dataframe tbody tr th {\n",
       "        vertical-align: top;\n",
       "    }\n",
       "\n",
       "    .dataframe thead th {\n",
       "        text-align: right;\n",
       "    }\n",
       "</style>\n",
       "<table border=\"1\" class=\"dataframe\">\n",
       "  <thead>\n",
       "    <tr style=\"text-align: right;\">\n",
       "      <th></th>\n",
       "      <th>app_id</th>\n",
       "      <th>dlc_available</th>\n",
       "      <th>age_rating</th>\n",
       "      <th>awards</th>\n",
       "      <th>overall_review_%</th>\n",
       "      <th>overall_review_count</th>\n",
       "      <th>recent_review_%</th>\n",
       "      <th>recent_review_count</th>\n",
       "    </tr>\n",
       "  </thead>\n",
       "  <tbody>\n",
       "    <tr>\n",
       "      <th>count</th>\n",
       "      <td>4.249700e+04</td>\n",
       "      <td>42497.000000</td>\n",
       "      <td>42497.000000</td>\n",
       "      <td>42497.000000</td>\n",
       "      <td>40020.000000</td>\n",
       "      <td>4.002000e+04</td>\n",
       "      <td>5503.000000</td>\n",
       "      <td>5503.000000</td>\n",
       "    </tr>\n",
       "    <tr>\n",
       "      <th>mean</th>\n",
       "      <td>1.245812e+06</td>\n",
       "      <td>0.722004</td>\n",
       "      <td>0.055886</td>\n",
       "      <td>0.309528</td>\n",
       "      <td>77.162569</td>\n",
       "      <td>2.500621e+03</td>\n",
       "      <td>82.303107</td>\n",
       "      <td>282.100491</td>\n",
       "    </tr>\n",
       "    <tr>\n",
       "      <th>std</th>\n",
       "      <td>7.553906e+05</td>\n",
       "      <td>4.673810</td>\n",
       "      <td>0.229705</td>\n",
       "      <td>1.264100</td>\n",
       "      <td>17.672036</td>\n",
       "      <td>4.887980e+04</td>\n",
       "      <td>15.110260</td>\n",
       "      <td>4583.606042</td>\n",
       "    </tr>\n",
       "    <tr>\n",
       "      <th>min</th>\n",
       "      <td>1.000000e+01</td>\n",
       "      <td>0.000000</td>\n",
       "      <td>0.000000</td>\n",
       "      <td>0.000000</td>\n",
       "      <td>0.000000</td>\n",
       "      <td>1.000000e+01</td>\n",
       "      <td>6.000000</td>\n",
       "      <td>10.000000</td>\n",
       "    </tr>\n",
       "    <tr>\n",
       "      <th>25%</th>\n",
       "      <td>5.892200e+05</td>\n",
       "      <td>0.000000</td>\n",
       "      <td>0.000000</td>\n",
       "      <td>0.000000</td>\n",
       "      <td>68.000000</td>\n",
       "      <td>2.100000e+01</td>\n",
       "      <td>75.000000</td>\n",
       "      <td>16.000000</td>\n",
       "    </tr>\n",
       "    <tr>\n",
       "      <th>50%</th>\n",
       "      <td>1.144860e+06</td>\n",
       "      <td>0.000000</td>\n",
       "      <td>0.000000</td>\n",
       "      <td>0.000000</td>\n",
       "      <td>81.000000</td>\n",
       "      <td>5.900000e+01</td>\n",
       "      <td>86.000000</td>\n",
       "      <td>34.000000</td>\n",
       "    </tr>\n",
       "    <tr>\n",
       "      <th>75%</th>\n",
       "      <td>1.822640e+06</td>\n",
       "      <td>0.000000</td>\n",
       "      <td>0.000000</td>\n",
       "      <td>0.000000</td>\n",
       "      <td>91.000000</td>\n",
       "      <td>2.820000e+02</td>\n",
       "      <td>93.000000</td>\n",
       "      <td>102.000000</td>\n",
       "    </tr>\n",
       "    <tr>\n",
       "      <th>max</th>\n",
       "      <td>3.008050e+06</td>\n",
       "      <td>200.000000</td>\n",
       "      <td>1.000000</td>\n",
       "      <td>41.000000</td>\n",
       "      <td>100.000000</td>\n",
       "      <td>8.062218e+06</td>\n",
       "      <td>100.000000</td>\n",
       "      <td>328633.000000</td>\n",
       "    </tr>\n",
       "  </tbody>\n",
       "</table>\n",
       "</div>"
      ],
      "text/plain": [
       "             app_id  dlc_available    age_rating        awards  \\\n",
       "count  4.249700e+04   42497.000000  42497.000000  42497.000000   \n",
       "mean   1.245812e+06       0.722004      0.055886      0.309528   \n",
       "std    7.553906e+05       4.673810      0.229705      1.264100   \n",
       "min    1.000000e+01       0.000000      0.000000      0.000000   \n",
       "25%    5.892200e+05       0.000000      0.000000      0.000000   \n",
       "50%    1.144860e+06       0.000000      0.000000      0.000000   \n",
       "75%    1.822640e+06       0.000000      0.000000      0.000000   \n",
       "max    3.008050e+06     200.000000      1.000000     41.000000   \n",
       "\n",
       "       overall_review_%  overall_review_count  recent_review_%  \\\n",
       "count      40020.000000          4.002000e+04      5503.000000   \n",
       "mean          77.162569          2.500621e+03        82.303107   \n",
       "std           17.672036          4.887980e+04        15.110260   \n",
       "min            0.000000          1.000000e+01         6.000000   \n",
       "25%           68.000000          2.100000e+01        75.000000   \n",
       "50%           81.000000          5.900000e+01        86.000000   \n",
       "75%           91.000000          2.820000e+02        93.000000   \n",
       "max          100.000000          8.062218e+06       100.000000   \n",
       "\n",
       "       recent_review_count  \n",
       "count          5503.000000  \n",
       "mean            282.100491  \n",
       "std            4583.606042  \n",
       "min              10.000000  \n",
       "25%              16.000000  \n",
       "50%              34.000000  \n",
       "75%             102.000000  \n",
       "max          328633.000000  "
      ]
     },
     "execution_count": 184,
     "metadata": {},
     "output_type": "execute_result"
    }
   ],
   "source": [
    "df.describe()"
   ]
  },
  {
   "cell_type": "code",
   "execution_count": 185,
   "id": "5dcfdff1-0c6b-4e81-aad2-a095f8e4f411",
   "metadata": {
    "scrolled": true
   },
   "outputs": [
    {
     "data": {
      "text/plain": [
       "app_id                      0\n",
       "title                       0\n",
       "release_date               57\n",
       "genres                     87\n",
       "categories                 45\n",
       "developer                 190\n",
       "publisher                 211\n",
       "original_price          37638\n",
       "discount_percentage     37638\n",
       "discounted_price          240\n",
       "dlc_available               0\n",
       "age_rating                  0\n",
       "content_descriptor      40122\n",
       "about_description         138\n",
       "win_support                 0\n",
       "mac_support                 0\n",
       "linux_support               0\n",
       "awards                      0\n",
       "overall_review           2477\n",
       "overall_review_%         2477\n",
       "overall_review_count     2477\n",
       "recent_review           36994\n",
       "recent_review_%         36994\n",
       "recent_review_count     36994\n",
       "dtype: int64"
      ]
     },
     "execution_count": 185,
     "metadata": {},
     "output_type": "execute_result"
    }
   ],
   "source": [
    "df.isnull().sum()"
   ]
  },
  {
   "cell_type": "markdown",
   "id": "28765929-ffe5-4f5c-a9d8-388a0b697f2f",
   "metadata": {},
   "source": [
    "### **Quais são os gêneros de jogos mais populares na plataforma?**\n",
    "- *identificar quais gêneros têm o maior número de jogos, melhores avaliações e premiações para orientar desenvolvedores sobre tendências de mercado.*"
   ]
  },
  {
   "cell_type": "code",
   "execution_count": 194,
   "id": "24217d3b-73e2-4ea2-a9fb-de4bf60636b1",
   "metadata": {},
   "outputs": [
    {
     "data": {
      "text/plain": [
       "Index(['app_id', 'title', 'release_date', 'genres', 'categories', 'developer',\n",
       "       'publisher', 'original_price', 'discount_percentage',\n",
       "       'discounted_price', 'dlc_available', 'age_rating', 'content_descriptor',\n",
       "       'about_description', 'win_support', 'mac_support', 'linux_support',\n",
       "       'awards', 'overall_review', 'overall_review_%', 'overall_review_count',\n",
       "       'recent_review', 'recent_review_%', 'recent_review_count'],\n",
       "      dtype='object')"
      ]
     },
     "execution_count": 194,
     "metadata": {},
     "output_type": "execute_result"
    }
   ],
   "source": [
    "df.columns"
   ]
  },
  {
   "cell_type": "code",
   "execution_count": 198,
   "id": "1a206098-06f2-4eeb-9a3c-89e57b74e1e8",
   "metadata": {},
   "outputs": [
    {
     "data": {
      "text/html": [
       "<div>\n",
       "<style scoped>\n",
       "    .dataframe tbody tr th:only-of-type {\n",
       "        vertical-align: middle;\n",
       "    }\n",
       "\n",
       "    .dataframe tbody tr th {\n",
       "        vertical-align: top;\n",
       "    }\n",
       "\n",
       "    .dataframe thead th {\n",
       "        text-align: right;\n",
       "    }\n",
       "</style>\n",
       "<table border=\"1\" class=\"dataframe\">\n",
       "  <thead>\n",
       "    <tr style=\"text-align: right;\">\n",
       "      <th></th>\n",
       "      <th>title</th>\n",
       "      <th>genres</th>\n",
       "      <th>categories</th>\n",
       "      <th>awards</th>\n",
       "      <th>overall_review</th>\n",
       "      <th>overall_review_%</th>\n",
       "      <th>overall_review_count</th>\n",
       "    </tr>\n",
       "  </thead>\n",
       "  <tbody>\n",
       "    <tr>\n",
       "      <th>0</th>\n",
       "      <td>Counter-Strike 2</td>\n",
       "      <td>Action, Free to Play</td>\n",
       "      <td>Cross-Platform Multiplayer, Steam Trading Card...</td>\n",
       "      <td>1</td>\n",
       "      <td>Very Positive</td>\n",
       "      <td>87.0</td>\n",
       "      <td>8062218.0</td>\n",
       "    </tr>\n",
       "    <tr>\n",
       "      <th>1</th>\n",
       "      <td>Dota 2</td>\n",
       "      <td>Action, Strategy, Free to Play</td>\n",
       "      <td>Steam Trading Cards, Steam Workshop, SteamVR C...</td>\n",
       "      <td>0</td>\n",
       "      <td>Very Positive</td>\n",
       "      <td>81.0</td>\n",
       "      <td>2243112.0</td>\n",
       "    </tr>\n",
       "  </tbody>\n",
       "</table>\n",
       "</div>"
      ],
      "text/plain": [
       "              title                          genres  \\\n",
       "0  Counter-Strike 2            Action, Free to Play   \n",
       "1            Dota 2  Action, Strategy, Free to Play   \n",
       "\n",
       "                                          categories  awards overall_review  \\\n",
       "0  Cross-Platform Multiplayer, Steam Trading Card...       1  Very Positive   \n",
       "1  Steam Trading Cards, Steam Workshop, SteamVR C...       0  Very Positive   \n",
       "\n",
       "   overall_review_%  overall_review_count  \n",
       "0              87.0             8062218.0  \n",
       "1              81.0             2243112.0  "
      ]
     },
     "execution_count": 198,
     "metadata": {},
     "output_type": "execute_result"
    }
   ],
   "source": [
    "reviews_by_genres = df[['title', 'genres', 'categories', 'awards', 'overall_review', 'overall_review_%', \n",
    "        'overall_review_count']]\n",
    "reviews_by_genres.head(2)"
   ]
  },
  {
   "cell_type": "code",
   "execution_count": 212,
   "id": "dad4373d-a2be-411e-b224-56b839fd8a48",
   "metadata": {},
   "outputs": [],
   "source": [
    "reviews_by_genres = reviews_by_genres.dropna()"
   ]
  },
  {
   "cell_type": "code",
   "execution_count": 222,
   "id": "3ce9246c-a2dc-49c2-b43b-b78157635260",
   "metadata": {},
   "outputs": [
    {
     "data": {
      "text/html": [
       "<div>\n",
       "<style scoped>\n",
       "    .dataframe tbody tr th:only-of-type {\n",
       "        vertical-align: middle;\n",
       "    }\n",
       "\n",
       "    .dataframe tbody tr th {\n",
       "        vertical-align: top;\n",
       "    }\n",
       "\n",
       "    .dataframe thead th {\n",
       "        text-align: right;\n",
       "    }\n",
       "</style>\n",
       "<table border=\"1\" class=\"dataframe\">\n",
       "  <thead>\n",
       "    <tr style=\"text-align: right;\">\n",
       "      <th></th>\n",
       "      <th>title</th>\n",
       "      <th>count</th>\n",
       "    </tr>\n",
       "  </thead>\n",
       "  <tbody>\n",
       "    <tr>\n",
       "      <th>0</th>\n",
       "      <td>Action, Indie</td>\n",
       "      <td>2270</td>\n",
       "    </tr>\n",
       "    <tr>\n",
       "      <th>1</th>\n",
       "      <td>Action, Adventure, Indie</td>\n",
       "      <td>2125</td>\n",
       "    </tr>\n",
       "    <tr>\n",
       "      <th>2</th>\n",
       "      <td>Adventure, Indie</td>\n",
       "      <td>1945</td>\n",
       "    </tr>\n",
       "    <tr>\n",
       "      <th>3</th>\n",
       "      <td>Casual, Indie</td>\n",
       "      <td>1687</td>\n",
       "    </tr>\n",
       "    <tr>\n",
       "      <th>4</th>\n",
       "      <td>Adventure, Casual, Indie</td>\n",
       "      <td>1399</td>\n",
       "    </tr>\n",
       "    <tr>\n",
       "      <th>...</th>\n",
       "      <td>...</td>\n",
       "      <td>...</td>\n",
       "    </tr>\n",
       "    <tr>\n",
       "      <th>1478</th>\n",
       "      <td>Casual, Strategy, Free to Play, Early Access</td>\n",
       "      <td>1</td>\n",
       "    </tr>\n",
       "    <tr>\n",
       "      <th>1479</th>\n",
       "      <td>Indie, Racing, Sports, Strategy</td>\n",
       "      <td>1</td>\n",
       "    </tr>\n",
       "    <tr>\n",
       "      <th>1480</th>\n",
       "      <td>Casual, Free to Play, Indie, Massively Multipl...</td>\n",
       "      <td>1</td>\n",
       "    </tr>\n",
       "    <tr>\n",
       "      <th>1481</th>\n",
       "      <td>Action, Adventure, Casual, Free to Play, Indie...</td>\n",
       "      <td>1</td>\n",
       "    </tr>\n",
       "    <tr>\n",
       "      <th>1482</th>\n",
       "      <td>Action, Adventure, Massively Multiplayer, Stra...</td>\n",
       "      <td>1</td>\n",
       "    </tr>\n",
       "  </tbody>\n",
       "</table>\n",
       "<p>1483 rows × 2 columns</p>\n",
       "</div>"
      ],
      "text/plain": [
       "                                                  title  count\n",
       "0                                         Action, Indie   2270\n",
       "1                              Action, Adventure, Indie   2125\n",
       "2                                      Adventure, Indie   1945\n",
       "3                                         Casual, Indie   1687\n",
       "4                              Adventure, Casual, Indie   1399\n",
       "...                                                 ...    ...\n",
       "1478       Casual, Strategy, Free to Play, Early Access      1\n",
       "1479                    Indie, Racing, Sports, Strategy      1\n",
       "1480  Casual, Free to Play, Indie, Massively Multipl...      1\n",
       "1481  Action, Adventure, Casual, Free to Play, Indie...      1\n",
       "1482  Action, Adventure, Massively Multiplayer, Stra...      1\n",
       "\n",
       "[1483 rows x 2 columns]"
      ]
     },
     "execution_count": 222,
     "metadata": {},
     "output_type": "execute_result"
    }
   ],
   "source": [
    "genres_count = reviews_by_genres.genres.value_counts()\n",
    "genres_count_df = pd.DataFrame(genres_count).reset_index()\n",
    "colluns = {'index':'title', 'genres':'count' }\n",
    "genres_count_df.rename(columns=colluns, inplace=True)\n",
    "genres_count_df"
   ]
  },
  {
   "cell_type": "code",
   "execution_count": 231,
   "id": "2fabe35f-f2f7-44c5-9b4b-ad0048ea0859",
   "metadata": {},
   "outputs": [
    {
     "name": "stdout",
     "output_type": "stream",
     "text": [
      "Total de contagens igual a 1: 587\n"
     ]
    }
   ],
   "source": [
    "\n",
    "total_count_of_1s = genres_count_df.loc[genres_count_df['count'] == 1, 'count'].sum()\n",
    "\n",
    "print(\"Total de contagens igual a 1:\", total_count_of_1s)\n"
   ]
  },
  {
   "cell_type": "code",
   "execution_count": 226,
   "id": "96bf67af-3397-4c46-a1c0-53e6f6001471",
   "metadata": {},
   "outputs": [],
   "source": [
    "top_10_frequency_genres = genres_count_df.head(10)"
   ]
  },
  {
   "cell_type": "code",
   "execution_count": 244,
   "id": "3f8c893d-f251-4330-affd-9327b8ae8c95",
   "metadata": {},
   "outputs": [
    {
     "data": {
      "application/vnd.plotly.v1+json": {
       "config": {
        "linkText": "Export to plot.ly",
        "plotlyServerURL": "https://plot.ly",
        "showLink": false
       },
       "data": [
        {
         "marker": {
          "color": "rgb(158,202,225)",
          "line": {
           "color": "rgb(8,48,107)",
           "width": 1.5
          }
         },
         "opacity": 0.6,
         "text": [
          2270,
          2125,
          1945,
          1687,
          1399,
          1265,
          973,
          971,
          856,
          828
         ],
         "textposition": "outside",
         "type": "bar",
         "x": [
          "Action, Indie",
          "Action, Adventure, Indie",
          "Adventure, Indie",
          "Casual, Indie",
          "Adventure, Casual, Indie",
          "Action",
          "Indie",
          "Action, Casual, Indie",
          "Adventure",
          "Casual"
         ],
         "y": [
          2270,
          2125,
          1945,
          1687,
          1399,
          1265,
          973,
          971,
          856,
          828
         ]
        }
       ],
       "layout": {
        "autosize": true,
        "bargap": 0.15,
        "bargroupgap": 0.1,
        "template": {
         "data": {
          "bar": [
           {
            "error_x": {
             "color": "#2a3f5f"
            },
            "error_y": {
             "color": "#2a3f5f"
            },
            "marker": {
             "line": {
              "color": "#E5ECF6",
              "width": 0.5
             },
             "pattern": {
              "fillmode": "overlay",
              "size": 10,
              "solidity": 0.2
             }
            },
            "type": "bar"
           }
          ],
          "barpolar": [
           {
            "marker": {
             "line": {
              "color": "#E5ECF6",
              "width": 0.5
             },
             "pattern": {
              "fillmode": "overlay",
              "size": 10,
              "solidity": 0.2
             }
            },
            "type": "barpolar"
           }
          ],
          "carpet": [
           {
            "aaxis": {
             "endlinecolor": "#2a3f5f",
             "gridcolor": "white",
             "linecolor": "white",
             "minorgridcolor": "white",
             "startlinecolor": "#2a3f5f"
            },
            "baxis": {
             "endlinecolor": "#2a3f5f",
             "gridcolor": "white",
             "linecolor": "white",
             "minorgridcolor": "white",
             "startlinecolor": "#2a3f5f"
            },
            "type": "carpet"
           }
          ],
          "choropleth": [
           {
            "colorbar": {
             "outlinewidth": 0,
             "ticks": ""
            },
            "type": "choropleth"
           }
          ],
          "contour": [
           {
            "colorbar": {
             "outlinewidth": 0,
             "ticks": ""
            },
            "colorscale": [
             [
              0,
              "#0d0887"
             ],
             [
              0.1111111111111111,
              "#46039f"
             ],
             [
              0.2222222222222222,
              "#7201a8"
             ],
             [
              0.3333333333333333,
              "#9c179e"
             ],
             [
              0.4444444444444444,
              "#bd3786"
             ],
             [
              0.5555555555555556,
              "#d8576b"
             ],
             [
              0.6666666666666666,
              "#ed7953"
             ],
             [
              0.7777777777777778,
              "#fb9f3a"
             ],
             [
              0.8888888888888888,
              "#fdca26"
             ],
             [
              1,
              "#f0f921"
             ]
            ],
            "type": "contour"
           }
          ],
          "contourcarpet": [
           {
            "colorbar": {
             "outlinewidth": 0,
             "ticks": ""
            },
            "type": "contourcarpet"
           }
          ],
          "heatmap": [
           {
            "colorbar": {
             "outlinewidth": 0,
             "ticks": ""
            },
            "colorscale": [
             [
              0,
              "#0d0887"
             ],
             [
              0.1111111111111111,
              "#46039f"
             ],
             [
              0.2222222222222222,
              "#7201a8"
             ],
             [
              0.3333333333333333,
              "#9c179e"
             ],
             [
              0.4444444444444444,
              "#bd3786"
             ],
             [
              0.5555555555555556,
              "#d8576b"
             ],
             [
              0.6666666666666666,
              "#ed7953"
             ],
             [
              0.7777777777777778,
              "#fb9f3a"
             ],
             [
              0.8888888888888888,
              "#fdca26"
             ],
             [
              1,
              "#f0f921"
             ]
            ],
            "type": "heatmap"
           }
          ],
          "heatmapgl": [
           {
            "colorbar": {
             "outlinewidth": 0,
             "ticks": ""
            },
            "colorscale": [
             [
              0,
              "#0d0887"
             ],
             [
              0.1111111111111111,
              "#46039f"
             ],
             [
              0.2222222222222222,
              "#7201a8"
             ],
             [
              0.3333333333333333,
              "#9c179e"
             ],
             [
              0.4444444444444444,
              "#bd3786"
             ],
             [
              0.5555555555555556,
              "#d8576b"
             ],
             [
              0.6666666666666666,
              "#ed7953"
             ],
             [
              0.7777777777777778,
              "#fb9f3a"
             ],
             [
              0.8888888888888888,
              "#fdca26"
             ],
             [
              1,
              "#f0f921"
             ]
            ],
            "type": "heatmapgl"
           }
          ],
          "histogram": [
           {
            "marker": {
             "pattern": {
              "fillmode": "overlay",
              "size": 10,
              "solidity": 0.2
             }
            },
            "type": "histogram"
           }
          ],
          "histogram2d": [
           {
            "colorbar": {
             "outlinewidth": 0,
             "ticks": ""
            },
            "colorscale": [
             [
              0,
              "#0d0887"
             ],
             [
              0.1111111111111111,
              "#46039f"
             ],
             [
              0.2222222222222222,
              "#7201a8"
             ],
             [
              0.3333333333333333,
              "#9c179e"
             ],
             [
              0.4444444444444444,
              "#bd3786"
             ],
             [
              0.5555555555555556,
              "#d8576b"
             ],
             [
              0.6666666666666666,
              "#ed7953"
             ],
             [
              0.7777777777777778,
              "#fb9f3a"
             ],
             [
              0.8888888888888888,
              "#fdca26"
             ],
             [
              1,
              "#f0f921"
             ]
            ],
            "type": "histogram2d"
           }
          ],
          "histogram2dcontour": [
           {
            "colorbar": {
             "outlinewidth": 0,
             "ticks": ""
            },
            "colorscale": [
             [
              0,
              "#0d0887"
             ],
             [
              0.1111111111111111,
              "#46039f"
             ],
             [
              0.2222222222222222,
              "#7201a8"
             ],
             [
              0.3333333333333333,
              "#9c179e"
             ],
             [
              0.4444444444444444,
              "#bd3786"
             ],
             [
              0.5555555555555556,
              "#d8576b"
             ],
             [
              0.6666666666666666,
              "#ed7953"
             ],
             [
              0.7777777777777778,
              "#fb9f3a"
             ],
             [
              0.8888888888888888,
              "#fdca26"
             ],
             [
              1,
              "#f0f921"
             ]
            ],
            "type": "histogram2dcontour"
           }
          ],
          "mesh3d": [
           {
            "colorbar": {
             "outlinewidth": 0,
             "ticks": ""
            },
            "type": "mesh3d"
           }
          ],
          "parcoords": [
           {
            "line": {
             "colorbar": {
              "outlinewidth": 0,
              "ticks": ""
             }
            },
            "type": "parcoords"
           }
          ],
          "pie": [
           {
            "automargin": true,
            "type": "pie"
           }
          ],
          "scatter": [
           {
            "fillpattern": {
             "fillmode": "overlay",
             "size": 10,
             "solidity": 0.2
            },
            "type": "scatter"
           }
          ],
          "scatter3d": [
           {
            "line": {
             "colorbar": {
              "outlinewidth": 0,
              "ticks": ""
             }
            },
            "marker": {
             "colorbar": {
              "outlinewidth": 0,
              "ticks": ""
             }
            },
            "type": "scatter3d"
           }
          ],
          "scattercarpet": [
           {
            "marker": {
             "colorbar": {
              "outlinewidth": 0,
              "ticks": ""
             }
            },
            "type": "scattercarpet"
           }
          ],
          "scattergeo": [
           {
            "marker": {
             "colorbar": {
              "outlinewidth": 0,
              "ticks": ""
             }
            },
            "type": "scattergeo"
           }
          ],
          "scattergl": [
           {
            "marker": {
             "colorbar": {
              "outlinewidth": 0,
              "ticks": ""
             }
            },
            "type": "scattergl"
           }
          ],
          "scattermapbox": [
           {
            "marker": {
             "colorbar": {
              "outlinewidth": 0,
              "ticks": ""
             }
            },
            "type": "scattermapbox"
           }
          ],
          "scatterpolar": [
           {
            "marker": {
             "colorbar": {
              "outlinewidth": 0,
              "ticks": ""
             }
            },
            "type": "scatterpolar"
           }
          ],
          "scatterpolargl": [
           {
            "marker": {
             "colorbar": {
              "outlinewidth": 0,
              "ticks": ""
             }
            },
            "type": "scatterpolargl"
           }
          ],
          "scatterternary": [
           {
            "marker": {
             "colorbar": {
              "outlinewidth": 0,
              "ticks": ""
             }
            },
            "type": "scatterternary"
           }
          ],
          "surface": [
           {
            "colorbar": {
             "outlinewidth": 0,
             "ticks": ""
            },
            "colorscale": [
             [
              0,
              "#0d0887"
             ],
             [
              0.1111111111111111,
              "#46039f"
             ],
             [
              0.2222222222222222,
              "#7201a8"
             ],
             [
              0.3333333333333333,
              "#9c179e"
             ],
             [
              0.4444444444444444,
              "#bd3786"
             ],
             [
              0.5555555555555556,
              "#d8576b"
             ],
             [
              0.6666666666666666,
              "#ed7953"
             ],
             [
              0.7777777777777778,
              "#fb9f3a"
             ],
             [
              0.8888888888888888,
              "#fdca26"
             ],
             [
              1,
              "#f0f921"
             ]
            ],
            "type": "surface"
           }
          ],
          "table": [
           {
            "cells": {
             "fill": {
              "color": "#EBF0F8"
             },
             "line": {
              "color": "white"
             }
            },
            "header": {
             "fill": {
              "color": "#C8D4E3"
             },
             "line": {
              "color": "white"
             }
            },
            "type": "table"
           }
          ]
         },
         "layout": {
          "annotationdefaults": {
           "arrowcolor": "#2a3f5f",
           "arrowhead": 0,
           "arrowwidth": 1
          },
          "autotypenumbers": "strict",
          "coloraxis": {
           "colorbar": {
            "outlinewidth": 0,
            "ticks": ""
           }
          },
          "colorscale": {
           "diverging": [
            [
             0,
             "#8e0152"
            ],
            [
             0.1,
             "#c51b7d"
            ],
            [
             0.2,
             "#de77ae"
            ],
            [
             0.3,
             "#f1b6da"
            ],
            [
             0.4,
             "#fde0ef"
            ],
            [
             0.5,
             "#f7f7f7"
            ],
            [
             0.6,
             "#e6f5d0"
            ],
            [
             0.7,
             "#b8e186"
            ],
            [
             0.8,
             "#7fbc41"
            ],
            [
             0.9,
             "#4d9221"
            ],
            [
             1,
             "#276419"
            ]
           ],
           "sequential": [
            [
             0,
             "#0d0887"
            ],
            [
             0.1111111111111111,
             "#46039f"
            ],
            [
             0.2222222222222222,
             "#7201a8"
            ],
            [
             0.3333333333333333,
             "#9c179e"
            ],
            [
             0.4444444444444444,
             "#bd3786"
            ],
            [
             0.5555555555555556,
             "#d8576b"
            ],
            [
             0.6666666666666666,
             "#ed7953"
            ],
            [
             0.7777777777777778,
             "#fb9f3a"
            ],
            [
             0.8888888888888888,
             "#fdca26"
            ],
            [
             1,
             "#f0f921"
            ]
           ],
           "sequentialminus": [
            [
             0,
             "#0d0887"
            ],
            [
             0.1111111111111111,
             "#46039f"
            ],
            [
             0.2222222222222222,
             "#7201a8"
            ],
            [
             0.3333333333333333,
             "#9c179e"
            ],
            [
             0.4444444444444444,
             "#bd3786"
            ],
            [
             0.5555555555555556,
             "#d8576b"
            ],
            [
             0.6666666666666666,
             "#ed7953"
            ],
            [
             0.7777777777777778,
             "#fb9f3a"
            ],
            [
             0.8888888888888888,
             "#fdca26"
            ],
            [
             1,
             "#f0f921"
            ]
           ]
          },
          "colorway": [
           "#636efa",
           "#EF553B",
           "#00cc96",
           "#ab63fa",
           "#FFA15A",
           "#19d3f3",
           "#FF6692",
           "#B6E880",
           "#FF97FF",
           "#FECB52"
          ],
          "font": {
           "color": "#2a3f5f"
          },
          "geo": {
           "bgcolor": "white",
           "lakecolor": "white",
           "landcolor": "#E5ECF6",
           "showlakes": true,
           "showland": true,
           "subunitcolor": "white"
          },
          "hoverlabel": {
           "align": "left"
          },
          "hovermode": "closest",
          "mapbox": {
           "style": "light"
          },
          "paper_bgcolor": "white",
          "plot_bgcolor": "#E5ECF6",
          "polar": {
           "angularaxis": {
            "gridcolor": "white",
            "linecolor": "white",
            "ticks": ""
           },
           "bgcolor": "#E5ECF6",
           "radialaxis": {
            "gridcolor": "white",
            "linecolor": "white",
            "ticks": ""
           }
          },
          "scene": {
           "xaxis": {
            "backgroundcolor": "#E5ECF6",
            "gridcolor": "white",
            "gridwidth": 2,
            "linecolor": "white",
            "showbackground": true,
            "ticks": "",
            "zerolinecolor": "white"
           },
           "yaxis": {
            "backgroundcolor": "#E5ECF6",
            "gridcolor": "white",
            "gridwidth": 2,
            "linecolor": "white",
            "showbackground": true,
            "ticks": "",
            "zerolinecolor": "white"
           },
           "zaxis": {
            "backgroundcolor": "#E5ECF6",
            "gridcolor": "white",
            "gridwidth": 2,
            "linecolor": "white",
            "showbackground": true,
            "ticks": "",
            "zerolinecolor": "white"
           }
          },
          "shapedefaults": {
           "line": {
            "color": "#2a3f5f"
           }
          },
          "ternary": {
           "aaxis": {
            "gridcolor": "white",
            "linecolor": "white",
            "ticks": ""
           },
           "baxis": {
            "gridcolor": "white",
            "linecolor": "white",
            "ticks": ""
           },
           "bgcolor": "#E5ECF6",
           "caxis": {
            "gridcolor": "white",
            "linecolor": "white",
            "ticks": ""
           }
          },
          "title": {
           "x": 0.05
          },
          "xaxis": {
           "automargin": true,
           "gridcolor": "white",
           "linecolor": "white",
           "ticks": "",
           "title": {
            "standoff": 15
           },
           "zerolinecolor": "white",
           "zerolinewidth": 2
          },
          "yaxis": {
           "automargin": true,
           "gridcolor": "white",
           "linecolor": "white",
           "ticks": "",
           "title": {
            "standoff": 15
           },
           "zerolinecolor": "white",
           "zerolinewidth": 2
          }
         }
        },
        "title": {
         "font": {
          "size": 24
         },
         "text": "Gêneros mais populares na steam "
        },
        "xaxis": {
         "autorange": true,
         "range": [
          -0.5,
          9.5
         ],
         "tickfont": {
          "size": 14
         },
         "title": {
          "text": "Gênero"
         },
         "type": "category"
        },
        "yaxis": {
         "autorange": true,
         "range": [
          0,
          2389.4736842105262
         ],
         "tickfont": {
          "size": 14
         },
         "title": {
          "text": "Contagem"
         },
         "type": "linear"
        }
       }
      },
      "image/png": "[encoded data removed]",
      "text/html": [
       "<div>                            <div id=\"e2b1aa30-cf4e-4646-a6bc-d2810ae32a84\" class=\"plotly-graph-div\" style=\"height:600px; width:100%;\"></div>            <script type=\"text/javascript\">                require([\"plotly\"], function(Plotly) {                    window.PLOTLYENV=window.PLOTLYENV || {};                                    if (document.getElementById(\"e2b1aa30-cf4e-4646-a6bc-d2810ae32a84\")) {                    Plotly.newPlot(                        \"e2b1aa30-cf4e-4646-a6bc-d2810ae32a84\",                        [{\"marker\":{\"color\":\"rgb(158,202,225)\",\"line\":{\"color\":\"rgb(8,48,107)\",\"width\":1.5}},\"opacity\":0.6,\"text\":[2270.0,2125.0,1945.0,1687.0,1399.0,1265.0,973.0,971.0,856.0,828.0],\"textposition\":\"outside\",\"x\":[\"Action, Indie\",\"Action, Adventure, Indie\",\"Adventure, Indie\",\"Casual, Indie\",\"Adventure, Casual, Indie\",\"Action\",\"Indie\",\"Action, Casual, Indie\",\"Adventure\",\"Casual\"],\"y\":[2270,2125,1945,1687,1399,1265,973,971,856,828],\"type\":\"bar\"}],                        {\"bargap\":0.15,\"bargroupgap\":0.1,\"height\":600,\"template\":{\"data\":{\"barpolar\":[{\"marker\":{\"line\":{\"color\":\"#E5ECF6\",\"width\":0.5},\"pattern\":{\"fillmode\":\"overlay\",\"size\":10,\"solidity\":0.2}},\"type\":\"barpolar\"}],\"bar\":[{\"error_x\":{\"color\":\"#2a3f5f\"},\"error_y\":{\"color\":\"#2a3f5f\"},\"marker\":{\"line\":{\"color\":\"#E5ECF6\",\"width\":0.5},\"pattern\":{\"fillmode\":\"overlay\",\"size\":10,\"solidity\":0.2}},\"type\":\"bar\"}],\"carpet\":[{\"aaxis\":{\"endlinecolor\":\"#2a3f5f\",\"gridcolor\":\"white\",\"linecolor\":\"white\",\"minorgridcolor\":\"white\",\"startlinecolor\":\"#2a3f5f\"},\"baxis\":{\"endlinecolor\":\"#2a3f5f\",\"gridcolor\":\"white\",\"linecolor\":\"white\",\"minorgridcolor\":\"white\",\"startlinecolor\":\"#2a3f5f\"},\"type\":\"carpet\"}],\"choropleth\":[{\"colorbar\":{\"outlinewidth\":0,\"ticks\":\"\"},\"type\":\"choropleth\"}],\"contourcarpet\":[{\"colorbar\":{\"outlinewidth\":0,\"ticks\":\"\"},\"type\":\"contourcarpet\"}],\"contour\":[{\"colorbar\":{\"outlinewidth\":0,\"ticks\":\"\"},\"colorscale\":[[0.0,\"#0d0887\"],[0.1111111111111111,\"#46039f\"],[0.2222222222222222,\"#7201a8\"],[0.3333333333333333,\"#9c179e\"],[0.4444444444444444,\"#bd3786\"],[0.5555555555555556,\"#d8576b\"],[0.6666666666666666,\"#ed7953\"],[0.7777777777777778,\"#fb9f3a\"],[0.8888888888888888,\"#fdca26\"],[1.0,\"#f0f921\"]],\"type\":\"contour\"}],\"heatmapgl\":[{\"colorbar\":{\"outlinewidth\":0,\"ticks\":\"\"},\"colorscale\":[[0.0,\"#0d0887\"],[0.1111111111111111,\"#46039f\"],[0.2222222222222222,\"#7201a8\"],[0.3333333333333333,\"#9c179e\"],[0.4444444444444444,\"#bd3786\"],[0.5555555555555556,\"#d8576b\"],[0.6666666666666666,\"#ed7953\"],[0.7777777777777778,\"#fb9f3a\"],[0.8888888888888888,\"#fdca26\"],[1.0,\"#f0f921\"]],\"type\":\"heatmapgl\"}],\"heatmap\":[{\"colorbar\":{\"outlinewidth\":0,\"ticks\":\"\"},\"colorscale\":[[0.0,\"#0d0887\"],[0.1111111111111111,\"#46039f\"],[0.2222222222222222,\"#7201a8\"],[0.3333333333333333,\"#9c179e\"],[0.4444444444444444,\"#bd3786\"],[0.5555555555555556,\"#d8576b\"],[0.6666666666666666,\"#ed7953\"],[0.7777777777777778,\"#fb9f3a\"],[0.8888888888888888,\"#fdca26\"],[1.0,\"#f0f921\"]],\"type\":\"heatmap\"}],\"histogram2dcontour\":[{\"colorbar\":{\"outlinewidth\":0,\"ticks\":\"\"},\"colorscale\":[[0.0,\"#0d0887\"],[0.1111111111111111,\"#46039f\"],[0.2222222222222222,\"#7201a8\"],[0.3333333333333333,\"#9c179e\"],[0.4444444444444444,\"#bd3786\"],[0.5555555555555556,\"#d8576b\"],[0.6666666666666666,\"#ed7953\"],[0.7777777777777778,\"#fb9f3a\"],[0.8888888888888888,\"#fdca26\"],[1.0,\"#f0f921\"]],\"type\":\"histogram2dcontour\"}],\"histogram2d\":[{\"colorbar\":{\"outlinewidth\":0,\"ticks\":\"\"},\"colorscale\":[[0.0,\"#0d0887\"],[0.1111111111111111,\"#46039f\"],[0.2222222222222222,\"#7201a8\"],[0.3333333333333333,\"#9c179e\"],[0.4444444444444444,\"#bd3786\"],[0.5555555555555556,\"#d8576b\"],[0.6666666666666666,\"#ed7953\"],[0.7777777777777778,\"#fb9f3a\"],[0.8888888888888888,\"#fdca26\"],[1.0,\"#f0f921\"]],\"type\":\"histogram2d\"}],\"histogram\":[{\"marker\":{\"pattern\":{\"fillmode\":\"overlay\",\"size\":10,\"solidity\":0.2}},\"type\":\"histogram\"}],\"mesh3d\":[{\"colorbar\":{\"outlinewidth\":0,\"ticks\":\"\"},\"type\":\"mesh3d\"}],\"parcoords\":[{\"line\":{\"colorbar\":{\"outlinewidth\":0,\"ticks\":\"\"}},\"type\":\"parcoords\"}],\"pie\":[{\"automargin\":true,\"type\":\"pie\"}],\"scatter3d\":[{\"line\":{\"colorbar\":{\"outlinewidth\":0,\"ticks\":\"\"}},\"marker\":{\"colorbar\":{\"outlinewidth\":0,\"ticks\":\"\"}},\"type\":\"scatter3d\"}],\"scattercarpet\":[{\"marker\":{\"colorbar\":{\"outlinewidth\":0,\"ticks\":\"\"}},\"type\":\"scattercarpet\"}],\"scattergeo\":[{\"marker\":{\"colorbar\":{\"outlinewidth\":0,\"ticks\":\"\"}},\"type\":\"scattergeo\"}],\"scattergl\":[{\"marker\":{\"colorbar\":{\"outlinewidth\":0,\"ticks\":\"\"}},\"type\":\"scattergl\"}],\"scattermapbox\":[{\"marker\":{\"colorbar\":{\"outlinewidth\":0,\"ticks\":\"\"}},\"type\":\"scattermapbox\"}],\"scatterpolargl\":[{\"marker\":{\"colorbar\":{\"outlinewidth\":0,\"ticks\":\"\"}},\"type\":\"scatterpolargl\"}],\"scatterpolar\":[{\"marker\":{\"colorbar\":{\"outlinewidth\":0,\"ticks\":\"\"}},\"type\":\"scatterpolar\"}],\"scatter\":[{\"fillpattern\":{\"fillmode\":\"overlay\",\"size\":10,\"solidity\":0.2},\"type\":\"scatter\"}],\"scatterternary\":[{\"marker\":{\"colorbar\":{\"outlinewidth\":0,\"ticks\":\"\"}},\"type\":\"scatterternary\"}],\"surface\":[{\"colorbar\":{\"outlinewidth\":0,\"ticks\":\"\"},\"colorscale\":[[0.0,\"#0d0887\"],[0.1111111111111111,\"#46039f\"],[0.2222222222222222,\"#7201a8\"],[0.3333333333333333,\"#9c179e\"],[0.4444444444444444,\"#bd3786\"],[0.5555555555555556,\"#d8576b\"],[0.6666666666666666,\"#ed7953\"],[0.7777777777777778,\"#fb9f3a\"],[0.8888888888888888,\"#fdca26\"],[1.0,\"#f0f921\"]],\"type\":\"surface\"}],\"table\":[{\"cells\":{\"fill\":{\"color\":\"#EBF0F8\"},\"line\":{\"color\":\"white\"}},\"header\":{\"fill\":{\"color\":\"#C8D4E3\"},\"line\":{\"color\":\"white\"}},\"type\":\"table\"}]},\"layout\":{\"annotationdefaults\":{\"arrowcolor\":\"#2a3f5f\",\"arrowhead\":0,\"arrowwidth\":1},\"autotypenumbers\":\"strict\",\"coloraxis\":{\"colorbar\":{\"outlinewidth\":0,\"ticks\":\"\"}},\"colorscale\":{\"diverging\":[[0,\"#8e0152\"],[0.1,\"#c51b7d\"],[0.2,\"#de77ae\"],[0.3,\"#f1b6da\"],[0.4,\"#fde0ef\"],[0.5,\"#f7f7f7\"],[0.6,\"#e6f5d0\"],[0.7,\"#b8e186\"],[0.8,\"#7fbc41\"],[0.9,\"#4d9221\"],[1,\"#276419\"]],\"sequential\":[[0.0,\"#0d0887\"],[0.1111111111111111,\"#46039f\"],[0.2222222222222222,\"#7201a8\"],[0.3333333333333333,\"#9c179e\"],[0.4444444444444444,\"#bd3786\"],[0.5555555555555556,\"#d8576b\"],[0.6666666666666666,\"#ed7953\"],[0.7777777777777778,\"#fb9f3a\"],[0.8888888888888888,\"#fdca26\"],[1.0,\"#f0f921\"]],\"sequentialminus\":[[0.0,\"#0d0887\"],[0.1111111111111111,\"#46039f\"],[0.2222222222222222,\"#7201a8\"],[0.3333333333333333,\"#9c179e\"],[0.4444444444444444,\"#bd3786\"],[0.5555555555555556,\"#d8576b\"],[0.6666666666666666,\"#ed7953\"],[0.7777777777777778,\"#fb9f3a\"],[0.8888888888888888,\"#fdca26\"],[1.0,\"#f0f921\"]]},\"colorway\":[\"#636efa\",\"#EF553B\",\"#00cc96\",\"#ab63fa\",\"#FFA15A\",\"#19d3f3\",\"#FF6692\",\"#B6E880\",\"#FF97FF\",\"#FECB52\"],\"font\":{\"color\":\"#2a3f5f\"},\"geo\":{\"bgcolor\":\"white\",\"lakecolor\":\"white\",\"landcolor\":\"#E5ECF6\",\"showlakes\":true,\"showland\":true,\"subunitcolor\":\"white\"},\"hoverlabel\":{\"align\":\"left\"},\"hovermode\":\"closest\",\"mapbox\":{\"style\":\"light\"},\"paper_bgcolor\":\"white\",\"plot_bgcolor\":\"#E5ECF6\",\"polar\":{\"angularaxis\":{\"gridcolor\":\"white\",\"linecolor\":\"white\",\"ticks\":\"\"},\"bgcolor\":\"#E5ECF6\",\"radialaxis\":{\"gridcolor\":\"white\",\"linecolor\":\"white\",\"ticks\":\"\"}},\"scene\":{\"xaxis\":{\"backgroundcolor\":\"#E5ECF6\",\"gridcolor\":\"white\",\"gridwidth\":2,\"linecolor\":\"white\",\"showbackground\":true,\"ticks\":\"\",\"zerolinecolor\":\"white\"},\"yaxis\":{\"backgroundcolor\":\"#E5ECF6\",\"gridcolor\":\"white\",\"gridwidth\":2,\"linecolor\":\"white\",\"showbackground\":true,\"ticks\":\"\",\"zerolinecolor\":\"white\"},\"zaxis\":{\"backgroundcolor\":\"#E5ECF6\",\"gridcolor\":\"white\",\"gridwidth\":2,\"linecolor\":\"white\",\"showbackground\":true,\"ticks\":\"\",\"zerolinecolor\":\"white\"}},\"shapedefaults\":{\"line\":{\"color\":\"#2a3f5f\"}},\"ternary\":{\"aaxis\":{\"gridcolor\":\"white\",\"linecolor\":\"white\",\"ticks\":\"\"},\"baxis\":{\"gridcolor\":\"white\",\"linecolor\":\"white\",\"ticks\":\"\"},\"bgcolor\":\"#E5ECF6\",\"caxis\":{\"gridcolor\":\"white\",\"linecolor\":\"white\",\"ticks\":\"\"}},\"title\":{\"x\":0.05},\"xaxis\":{\"automargin\":true,\"gridcolor\":\"white\",\"linecolor\":\"white\",\"ticks\":\"\",\"title\":{\"standoff\":15},\"zerolinecolor\":\"white\",\"zerolinewidth\":2},\"yaxis\":{\"automargin\":true,\"gridcolor\":\"white\",\"linecolor\":\"white\",\"ticks\":\"\",\"title\":{\"standoff\":15},\"zerolinecolor\":\"white\",\"zerolinewidth\":2}}},\"title\":{\"font\":{\"size\":24},\"text\":\"Gêneros mais populares na steam \"},\"xaxis\":{\"tickfont\":{\"size\":14},\"title\":{\"text\":\"Gênero\"}},\"yaxis\":{\"tickfont\":{\"size\":14},\"title\":{\"text\":\"Contagem\"}}},                        {\"responsive\": true}                    ).then(function(){\n",
       "                            \n",
       "var gd = document.getElementById('e2b1aa30-cf4e-4646-a6bc-d2810ae32a84');\n",
       "var x = new MutationObserver(function (mutations, observer) {{\n",
       "        var display = window.getComputedStyle(gd).display;\n",
       "        if (!display || display === 'none') {{\n",
       "            console.log([gd, 'removed!']);\n",
       "            Plotly.purge(gd);\n",
       "            observer.disconnect();\n",
       "        }}\n",
       "}});\n",
       "\n",
       "// Listen for the removal of the full notebook cells\n",
       "var notebookContainer = gd.closest('#notebook-container');\n",
       "if (notebookContainer) {{\n",
       "    x.observe(notebookContainer, {childList: true});\n",
       "}}\n",
       "\n",
       "// Listen for the clearing of the current output cell\n",
       "var outputEl = gd.closest('.output');\n",
       "if (outputEl) {{\n",
       "    x.observe(outputEl, {childList: true});\n",
       "}}\n",
       "\n",
       "                        })                };                });            </script>        </div>"
      ]
     },
     "metadata": {},
     "output_type": "display_data"
    }
   ],
   "source": [
    "# Criar um objeto de gráfico de barras com personalizações\n",
    "bar_chart = go.Bar(\n",
    "    x=top_10_frequency_genres['title'], \n",
    "    y=top_10_frequency_genres['count'],\n",
    "    marker=dict(color='rgb(158,202,225)', line=dict(color='rgb(8,48,107)', width=1.5)),  # Personaliza as cores das barras\n",
    "    opacity=0.6,  # Define a opacidade das barras\n",
    "    text=top_10_frequency_genres['count'],  # Adiciona o valor de contagem como texto nas barras\n",
    "    textposition='outside',  # Posiciona o texto fora das barras\n",
    ")\n",
    "\n",
    "# Layout do gráfico com personalizações\n",
    "layout = go.Layout(\n",
    "    title='Gêneros mais populares na steam ',\n",
    "    title_font=dict(size=24),\n",
    "    xaxis=dict(title='Gênero', tickfont=dict(size=14)),  # Personaliza o tamanho da fonte no eixo x\n",
    "    yaxis=dict(title='Contagem', tickfont=dict(size=14)),  # Personaliza o tamanho da fonte no eixo y\n",
    "    bargap=0.15,  # Define o espaço entre as barras\n",
    "    bargroupgap=0.1,  # Define o espaço entre grupos de barras\n",
    "    height=600  # Define a altura do gráfico\n",
    ")\n",
    "\n",
    "# Criar figura\n",
    "fig = go.Figure(data=[bar_chart], layout=layout)\n",
    "\n",
    "# Plotar o gráfico diretamente na célula do Jupyter\n",
    "iplot(fig)"
   ]
  },
  {
   "cell_type": "code",
   "execution_count": null,
   "id": "1b7a830d-c18b-402e-ae45-92065c63fa3e",
   "metadata": {},
   "outputs": [],
   "source": []
  },
  {
   "cell_type": "code",
   "execution_count": null,
   "id": "9f548cc1-4018-4e94-bf94-f59433f45896",
   "metadata": {},
   "outputs": [],
   "source": []
  },
  {
   "cell_type": "code",
   "execution_count": 227,
   "id": "074e51e1-9df9-43a7-8bd1-0903a50d8026",
   "metadata": {},
   "outputs": [
    {
     "name": "stdout",
     "output_type": "stream",
     "text": [
      "<class 'pandas.core.frame.DataFrame'>\n",
      "RangeIndex: 1483 entries, 0 to 1482\n",
      "Data columns (total 2 columns):\n",
      " #   Column  Non-Null Count  Dtype \n",
      "---  ------  --------------  ----- \n",
      " 0   title   1483 non-null   object\n",
      " 1   count   1483 non-null   int64 \n",
      "dtypes: int64(1), object(1)\n",
      "memory usage: 23.3+ KB\n"
     ]
    }
   ],
   "source": [
    "genres_count_df.info()"
   ]
  },
  {
   "cell_type": "code",
   "execution_count": null,
   "id": "610439a9-7393-4577-ac8c-6f6345585dd4",
   "metadata": {},
   "outputs": [],
   "source": []
  },
  {
   "cell_type": "code",
   "execution_count": null,
   "id": "291238ff-b0f3-49ae-accd-31e990b4a416",
   "metadata": {},
   "outputs": [],
   "source": []
  },
  {
   "cell_type": "code",
   "execution_count": null,
   "id": "4473d99d-4f7d-464c-83cc-e7bd434a6196",
   "metadata": {},
   "outputs": [],
   "source": []
  },
  {
   "cell_type": "code",
   "execution_count": null,
   "id": "cc646f48-796e-4d04-b844-26b92daaeed5",
   "metadata": {},
   "outputs": [],
   "source": []
  },
  {
   "cell_type": "code",
   "execution_count": null,
   "id": "52c97a43-65ec-45ed-a31e-691caffb11cd",
   "metadata": {},
   "outputs": [],
   "source": []
  },
  {
   "cell_type": "code",
   "execution_count": null,
   "id": "68634c59-0df0-4f04-b0c4-83420767df75",
   "metadata": {},
   "outputs": [],
   "source": []
  },
  {
   "cell_type": "code",
   "execution_count": 187,
   "id": "1a47a8f3-89e8-43a1-a08e-5dbfa2f07c55",
   "metadata": {},
   "outputs": [],
   "source": [
    "release_dates = df[['title', 'release_date']].dropna()"
   ]
  },
  {
   "cell_type": "code",
   "execution_count": 188,
   "id": "11e23548-35a5-4e3b-ab21-8151eea8ebf9",
   "metadata": {},
   "outputs": [],
   "source": [
    "def convert_date(df):\n",
    "    try:\n",
    "        return pd.to_datetime(parser.parse(df))\n",
    "    except:\n",
    "        return pd.NaT \n",
    "\n",
    "release_dates['release_date'] = release_dates['release_date'].apply(convert_date).dropna()"
   ]
  },
  {
   "cell_type": "code",
   "execution_count": 189,
   "id": "d7dc0cbf-45de-4abb-a703-b457fadba668",
   "metadata": {},
   "outputs": [
    {
     "name": "stdout",
     "output_type": "stream",
     "text": [
      "<class 'pandas.core.frame.DataFrame'>\n",
      "Int64Index: 42440 entries, 0 to 42496\n",
      "Data columns (total 2 columns):\n",
      " #   Column        Non-Null Count  Dtype         \n",
      "---  ------        --------------  -----         \n",
      " 0   title         42440 non-null  object        \n",
      " 1   release_date  42438 non-null  datetime64[ns]\n",
      "dtypes: datetime64[ns](1), object(1)\n",
      "memory usage: 994.7+ KB\n"
     ]
    }
   ],
   "source": [
    "release_dates.info()"
   ]
  },
  {
   "cell_type": "code",
   "execution_count": 190,
   "id": "b7ba8d9d-8150-4288-b039-752990fef95b",
   "metadata": {},
   "outputs": [
    {
     "name": "stdout",
     "output_type": "stream",
     "text": [
      "1997-06-30 00:00:00\n",
      "2024-09-09 00:00:00\n"
     ]
    }
   ],
   "source": [
    "print(release_dates['release_date'].min())\n",
    "print(release_dates['release_date'].max())"
   ]
  },
  {
   "cell_type": "code",
   "execution_count": 8,
   "id": "08c2b914-e42c-405a-9904-7968c36e8e38",
   "metadata": {},
   "outputs": [
    {
     "name": "stdout",
     "output_type": "stream",
     "text": [
      "<class 'pandas.core.frame.DataFrame'>\n",
      "RangeIndex: 42497 entries, 0 to 42496\n",
      "Data columns (total 11 columns):\n",
      " #   Column                Non-Null Count  Dtype  \n",
      "---  ------                --------------  -----  \n",
      " 0   app_id                42497 non-null  int64  \n",
      " 1   title                 42497 non-null  object \n",
      " 2   release_date          42440 non-null  object \n",
      " 3   genres                42410 non-null  object \n",
      " 4   categories            42452 non-null  object \n",
      " 5   developer             42307 non-null  object \n",
      " 6   publisher             42286 non-null  object \n",
      " 7   awards                42497 non-null  int64  \n",
      " 8   overall_review        40020 non-null  object \n",
      " 9   overall_review_%      40020 non-null  float64\n",
      " 10  overall_review_count  40020 non-null  float64\n",
      "dtypes: float64(2), int64(2), object(7)\n",
      "memory usage: 3.6+ MB\n"
     ]
    }
   ],
   "source": [
    "df_1.info()"
   ]
  },
  {
   "cell_type": "code",
   "execution_count": 14,
   "id": "6a4a96f1-9beb-4f09-b6b4-c6a2633b70ce",
   "metadata": {},
   "outputs": [
    {
     "data": {
      "text/plain": [
       "app_id                     0\n",
       "title                      0\n",
       "release_date              57\n",
       "genres                    87\n",
       "categories                45\n",
       "developer                190\n",
       "publisher                211\n",
       "awards                     0\n",
       "overall_review          2477\n",
       "overall_review_%        2477\n",
       "overall_review_count    2477\n",
       "dtype: int64"
      ]
     },
     "execution_count": 14,
     "metadata": {},
     "output_type": "execute_result"
    }
   ],
   "source": [
    "df_1.isnull().sum()"
   ]
  },
  {
   "cell_type": "code",
   "execution_count": 16,
   "id": "43990c99-cab2-45e9-93e7-fcd354a9cee1",
   "metadata": {},
   "outputs": [],
   "source": [
    "df_1 = df_1.dropna()"
   ]
  },
  {
   "cell_type": "code",
   "execution_count": 17,
   "id": "25b43b75-7ff6-4640-af19-10298ba483bb",
   "metadata": {},
   "outputs": [
    {
     "name": "stdout",
     "output_type": "stream",
     "text": [
      "<class 'pandas.core.frame.DataFrame'>\n",
      "Int64Index: 39853 entries, 0 to 42248\n",
      "Data columns (total 11 columns):\n",
      " #   Column                Non-Null Count  Dtype  \n",
      "---  ------                --------------  -----  \n",
      " 0   app_id                39853 non-null  int64  \n",
      " 1   title                 39853 non-null  object \n",
      " 2   release_date          39853 non-null  object \n",
      " 3   genres                39853 non-null  object \n",
      " 4   categories            39853 non-null  object \n",
      " 5   developer             39853 non-null  object \n",
      " 6   publisher             39853 non-null  object \n",
      " 7   awards                39853 non-null  int64  \n",
      " 8   overall_review        39853 non-null  object \n",
      " 9   overall_review_%      39853 non-null  float64\n",
      " 10  overall_review_count  39853 non-null  float64\n",
      "dtypes: float64(2), int64(2), object(7)\n",
      "memory usage: 3.6+ MB\n"
     ]
    }
   ],
   "source": [
    "df_1.info()"
   ]
  },
  {
   "cell_type": "code",
   "execution_count": 18,
   "id": "7b4905a4-d869-4cfb-902f-9858ed0e9830",
   "metadata": {},
   "outputs": [
    {
     "data": {
      "text/html": [
       "<div>\n",
       "<style scoped>\n",
       "    .dataframe tbody tr th:only-of-type {\n",
       "        vertical-align: middle;\n",
       "    }\n",
       "\n",
       "    .dataframe tbody tr th {\n",
       "        vertical-align: top;\n",
       "    }\n",
       "\n",
       "    .dataframe thead th {\n",
       "        text-align: right;\n",
       "    }\n",
       "</style>\n",
       "<table border=\"1\" class=\"dataframe\">\n",
       "  <thead>\n",
       "    <tr style=\"text-align: right;\">\n",
       "      <th></th>\n",
       "      <th>overall_review</th>\n",
       "      <th>overall_review_%</th>\n",
       "      <th>overall_review_count</th>\n",
       "    </tr>\n",
       "  </thead>\n",
       "  <tbody>\n",
       "    <tr>\n",
       "      <th>0</th>\n",
       "      <td>Very Positive</td>\n",
       "      <td>87.0</td>\n",
       "      <td>8062218.0</td>\n",
       "    </tr>\n",
       "    <tr>\n",
       "      <th>1</th>\n",
       "      <td>Very Positive</td>\n",
       "      <td>81.0</td>\n",
       "      <td>2243112.0</td>\n",
       "    </tr>\n",
       "    <tr>\n",
       "      <th>2</th>\n",
       "      <td>Very Positive</td>\n",
       "      <td>89.0</td>\n",
       "      <td>12294.0</td>\n",
       "    </tr>\n",
       "    <tr>\n",
       "      <th>3</th>\n",
       "      <td>Very Positive</td>\n",
       "      <td>93.0</td>\n",
       "      <td>605191.0</td>\n",
       "    </tr>\n",
       "    <tr>\n",
       "      <th>4</th>\n",
       "      <td>Very Positive</td>\n",
       "      <td>80.0</td>\n",
       "      <td>594713.0</td>\n",
       "    </tr>\n",
       "    <tr>\n",
       "      <th>...</th>\n",
       "      <td>...</td>\n",
       "      <td>...</td>\n",
       "      <td>...</td>\n",
       "    </tr>\n",
       "    <tr>\n",
       "      <th>40950</th>\n",
       "      <td>Very Negative</td>\n",
       "      <td>14.0</td>\n",
       "      <td>57.0</td>\n",
       "    </tr>\n",
       "    <tr>\n",
       "      <th>40968</th>\n",
       "      <td>Very Negative</td>\n",
       "      <td>14.0</td>\n",
       "      <td>54.0</td>\n",
       "    </tr>\n",
       "    <tr>\n",
       "      <th>41427</th>\n",
       "      <td>Overwhelmingly Negative</td>\n",
       "      <td>17.0</td>\n",
       "      <td>3299.0</td>\n",
       "    </tr>\n",
       "    <tr>\n",
       "      <th>42247</th>\n",
       "      <td>Very Negative</td>\n",
       "      <td>18.0</td>\n",
       "      <td>127.0</td>\n",
       "    </tr>\n",
       "    <tr>\n",
       "      <th>42248</th>\n",
       "      <td>Very Negative</td>\n",
       "      <td>15.0</td>\n",
       "      <td>51.0</td>\n",
       "    </tr>\n",
       "  </tbody>\n",
       "</table>\n",
       "<p>39853 rows × 3 columns</p>\n",
       "</div>"
      ],
      "text/plain": [
       "                overall_review  overall_review_%  overall_review_count\n",
       "0                Very Positive              87.0             8062218.0\n",
       "1                Very Positive              81.0             2243112.0\n",
       "2                Very Positive              89.0               12294.0\n",
       "3                Very Positive              93.0              605191.0\n",
       "4                Very Positive              80.0              594713.0\n",
       "...                        ...               ...                   ...\n",
       "40950            Very Negative              14.0                  57.0\n",
       "40968            Very Negative              14.0                  54.0\n",
       "41427  Overwhelmingly Negative              17.0                3299.0\n",
       "42247            Very Negative              18.0                 127.0\n",
       "42248            Very Negative              15.0                  51.0\n",
       "\n",
       "[39853 rows x 3 columns]"
      ]
     },
     "execution_count": 18,
     "metadata": {},
     "output_type": "execute_result"
    }
   ],
   "source": [
    "df_1[['overall_review', 'overall_review_%', \n",
    "        'overall_review_count']]"
   ]
  },
  {
   "cell_type": "code",
   "execution_count": null,
   "id": "eedc3663-15e7-4039-90ca-149dc3d0e225",
   "metadata": {},
   "outputs": [],
   "source": []
  },
  {
   "cell_type": "code",
   "execution_count": null,
   "id": "bedd1057-b47c-4b4f-9fca-741925938948",
   "metadata": {},
   "outputs": [],
   "source": []
  },
  {
   "cell_type": "code",
   "execution_count": null,
   "id": "be6e70d1-2c6e-458f-98ad-19d05f973078",
   "metadata": {},
   "outputs": [],
   "source": []
  },
  {
   "cell_type": "code",
   "execution_count": null,
   "id": "9b14eb4b-9f3b-483d-a2e8-6a9259c2ed85",
   "metadata": {},
   "outputs": [],
   "source": []
  },
  {
   "cell_type": "code",
   "execution_count": null,
   "id": "fb2be2b7-8ff0-487c-86d4-5dd6f372f901",
   "metadata": {},
   "outputs": [],
   "source": []
  },
  {
   "cell_type": "code",
   "execution_count": 7,
   "id": "9211a684-58a5-4945-a8db-a13a818d3968",
   "metadata": {},
   "outputs": [
    {
     "name": "stdin",
     "output_type": "stream",
     "text": [
      "Digite o prompt ou 'sair\n",
      "' DESCRIBE\n"
     ]
    },
    {
     "name": "stdout",
     "output_type": "stream",
     "text": [
      "\n",
      "\n",
      "\u001b[1m> Entering new AgentExecutor chain...\u001b[0m\n",
      "\u001b[32;1m\u001b[1;3m\n",
      "Invoking: `python_repl_ast` with `{'query': 'df.describe()'}`\n",
      "\n",
      "\n",
      "\u001b[0m\u001b[36;1m\u001b[1;3m             app_id  dlc_available    age_rating        awards  \\\n",
      "count  4.249700e+04   42497.000000  42497.000000  42497.000000   \n",
      "mean   1.245812e+06       0.722004      0.055886      0.309528   \n",
      "std    7.553906e+05       4.673810      0.229705      1.264100   \n",
      "min    1.000000e+01       0.000000      0.000000      0.000000   \n",
      "25%    5.892200e+05       0.000000      0.000000      0.000000   \n",
      "50%    1.144860e+06       0.000000      0.000000      0.000000   \n",
      "75%    1.822640e+06       0.000000      0.000000      0.000000   \n",
      "max    3.008050e+06     200.000000      1.000000     41.000000   \n",
      "\n",
      "       overall_review_%  overall_review_count  recent_review_%  \\\n",
      "count      40020.000000          4.002000e+04      5503.000000   \n",
      "mean          77.162569          2.500621e+03        82.303107   \n",
      "std           17.672036          4.887980e+04        15.110260   \n",
      "min            0.000000          1.000000e+01         6.000000   \n",
      "25%           68.000000          2.100000e+01        75.000000   \n",
      "50%           81.000000          5.900000e+01        86.000000   \n",
      "75%           91.000000          2.820000e+02        93.000000   \n",
      "max          100.000000          8.062218e+06       100.000000   \n",
      "\n",
      "       recent_review_count  \n",
      "count          5503.000000  \n",
      "mean            282.100491  \n",
      "std            4583.606042  \n",
      "min              10.000000  \n",
      "25%              16.000000  \n",
      "50%              34.000000  \n",
      "75%             102.000000  \n",
      "max          328633.000000  \u001b[0m\u001b[32;1m\u001b[1;3mAqui estão algumas estatísticas descritivas para algumas colunas do conjunto de dados:\n",
      "\n",
      "- Número de registros (count):\n",
      "    - app_id: 42497\n",
      "    - dlc_available: 42497\n",
      "    - age_rating: 42497\n",
      "    - awards: 42497\n",
      "    - overall_review_%: 40020\n",
      "    - overall_review_count: 40020\n",
      "    - recent_review_%: 5503\n",
      "    - recent_review_count: 5503\n",
      "\n",
      "- Médias:\n",
      "    - dlc_available: 0.722004\n",
      "    - age_rating: 0.055886\n",
      "    - awards: 0.309528\n",
      "    - overall_review_%: 77.162569\n",
      "    - overall_review_count: 2500.621\n",
      "    - recent_review_%: 82.303107\n",
      "    - recent_review_count: 282.100491\n",
      "\n",
      "- Desvios padrão:\n",
      "    - dlc_available: 4.673810\n",
      "    - age_rating: 0.229705\n",
      "    - awards: 1.264100\n",
      "    - overall_review_%: 17.672036\n",
      "    - overall_review_count: 48879.980\n",
      "    - recent_review_%: 15.110260\n",
      "    - recent_review_count: 4583.606042\n",
      "\n",
      "Essas são algumas das estatísticas descritivas disponíveis para o conjunto de dados.\u001b[0m\n",
      "\n",
      "\u001b[1m> Finished chain.\u001b[0m\n"
     ]
    },
    {
     "name": "stdin",
     "output_type": "stream",
     "text": [
      "Digite o prompt ou 'sair\n",
      "' sair\n"
     ]
    },
    {
     "name": "stdout",
     "output_type": "stream",
     "text": [
      "finalizando...\n"
     ]
    }
   ],
   "source": [
    "_chat(df)"
   ]
  },
  {
   "cell_type": "code",
   "execution_count": null,
   "id": "7fa1d437-4f87-457e-8fad-af0d0d52c3c3",
   "metadata": {},
   "outputs": [],
   "source": []
  }
 ],
 "metadata": {
  "kernelspec": {
   "display_name": "Python 3 (ipykernel)",
   "language": "python",
   "name": "python3"
  },
  "language_info": {
   "codemirror_mode": {
    "name": "ipython",
    "version": 3
   },
   "file_extension": ".py",
   "mimetype": "text/x-python",
   "name": "python",
   "nbconvert_exporter": "python",
   "pygments_lexer": "ipython3",
   "version": "3.11.7"
  }
 },
 "nbformat": 4,
 "nbformat_minor": 5
}
